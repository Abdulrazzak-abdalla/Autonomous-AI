{
  "nbformat": 4,
  "nbformat_minor": 0,
  "metadata": {
    "colab": {
      "name": "segRoad.ipynb",
      "provenance": [],
      "collapsed_sections": []
    },
    "kernelspec": {
      "name": "python3",
      "display_name": "Python 3"
    },
    "accelerator": "TPU"
  },
  "cells": [
    {
      "cell_type": "code",
      "metadata": {
        "id": "V6iekSXforPo"
      },
      "source": [
        "from google.colab import drive\r\n",
        "drive.mount('/content/drive')"
      ],
      "execution_count": null,
      "outputs": []
    },
    {
      "cell_type": "code",
      "metadata": {
        "colab": {
          "base_uri": "https://localhost:8080/"
        },
        "id": "xZmZosENaa7K",
        "outputId": "9fd22b28-61a5-4c26-d366-764cf92efa22"
      },
      "source": [
        "%cd /content/drive/MyDrive/Autonomous-AI/Day1/1_09_image-segmentation-keras"
      ],
      "execution_count": 1,
      "outputs": [
        {
          "output_type": "stream",
          "text": [
            "/content/drive/.shortcut-targets-by-id/107/colab/image-segmentation-keras\n"
          ],
          "name": "stdout"
        }
      ]
    },
    {
      "cell_type": "code",
      "metadata": {
        "id": "n3VKAR37arOW",
        "colab": {
          "base_uri": "https://localhost:8080/"
        },
        "outputId": "f1b0ede1-ffb9-4339-a5f0-0e02ae0e080e"
      },
      "source": [
        "%ls"
      ],
      "execution_count": 2,
      "outputs": [
        {
          "output_type": "stream",
          "text": [
            " \u001b[0m\u001b[01;34mcheckpoints\u001b[0m/   \u001b[01;34mkeras_segmentation\u001b[0m/   output.png         setup.py\n",
            " \u001b[01;34mdata\u001b[0m/          LICENSE               README.md          \u001b[01;34mtest\u001b[0m/\n",
            " \u001b[01;34mdata_all\u001b[0m/      myCode_color.py       requirements.txt  'view?usp=sharing'\n",
            " \u001b[01;34mdata_origin\u001b[0m/   myCode.py             \u001b[01;34msample_images\u001b[0m/\n",
            " \u001b[01;34mdocker\u001b[0m/        myPred.py             setup.cfg\n"
          ],
          "name": "stdout"
        }
      ]
    },
    {
      "cell_type": "code",
      "metadata": {
        "colab": {
          "base_uri": "https://localhost:8080/"
        },
        "id": "4LQ9etV0hRYA",
        "outputId": "3ba8e661-8107-453a-b683-8ac1ac42a768"
      },
      "source": [
        "%run myCode.py"
      ],
      "execution_count": null,
      "outputs": [
        {
          "output_type": "stream",
          "text": [
            "Verifying training dataset\n"
          ],
          "name": "stdout"
        },
        {
          "output_type": "stream",
          "text": [
            "100%|██████████| 7000/7000 [1:45:18<00:00,  1.11it/s]\n",
            "/usr/local/lib/python3.6/dist-packages/tensorflow/python/keras/engine/training.py:1844: UserWarning: `Model.fit_generator` is deprecated and will be removed in a future version. Please use `Model.fit`, which supports generators.\n",
            "  warnings.warn('`Model.fit_generator` is deprecated and '\n"
          ],
          "name": "stderr"
        },
        {
          "output_type": "stream",
          "text": [
            "Dataset verified! \n",
            "Epoch 1/20\n",
            "512/512 [==============================] - 2869s 6s/step - loss: 0.1585 - accuracy: 0.9415\n",
            "saved  ./checkpoints/70000/70000.0\n",
            "Epoch 2/20\n",
            "512/512 [==============================] - 2861s 6s/step - loss: 0.1662 - accuracy: 0.9365\n",
            "saved  ./checkpoints/70000/70000.1\n",
            "Epoch 3/20\n",
            "512/512 [==============================] - 2863s 6s/step - loss: 0.1704 - accuracy: 0.9344\n",
            "saved  ./checkpoints/70000/70000.2\n",
            "Epoch 4/20\n",
            "453/512 [=========================>....] - ETA: 5:29 - loss: 0.1657 - accuracy: 0.9371"
          ],
          "name": "stdout"
        }
      ]
    },
    {
      "cell_type": "code",
      "metadata": {
        "id": "g1hdASZmhgBV"
      },
      "source": [
        ""
      ],
      "execution_count": null,
      "outputs": []
    }
  ]
}