{
  "nbformat": 4,
  "nbformat_minor": 0,
  "metadata": {
    "colab": {
      "name": "segRoad.ipynb",
      "provenance": [],
      "collapsed_sections": []
    },
    "kernelspec": {
      "name": "python3",
      "display_name": "Python 3"
    },
    "accelerator": "TPU"
  },
  "cells": [
    {
      "cell_type": "code",
      "metadata": {
        "id": "V6iekSXforPo"
      },
      "source": [
        "from google.colab import drive\r\n",
        "drive.mount('/content/drive')"
      ],
      "execution_count": null,
      "outputs": []
    },
    {
      "cell_type": "code",
      "metadata": {
        "id": "xZmZosENaa7K"
      },
      "source": [
        "%cd /content/drive/MyDrive/Autonomous-AI/Day1/1_09_image-segmentation-keras"
      ],
      "execution_count": null,
      "outputs": []
    },
    {
      "cell_type": "markdown",
      "metadata": {
        "id": "vy3aZdWmuvvI"
      },
      "source": [
        "weight file 다운로드"
      ]
    },
    {
      "cell_type": "code",
      "metadata": {
        "id": "6oYCjrsStAe3"
      },
      "source": [
        "%cd checkpoints/70000/\r\n",
        "!gdown --id 10DSrg9MYD4xr-GXZJNlD9AEiI0HoPK-U --output 70000.6.data-00000-of-00001\r\n",
        "%cd ../../"
      ],
      "execution_count": null,
      "outputs": []
    },
    {
      "cell_type": "markdown",
      "metadata": {
        "id": "8bomhQKhp95M"
      },
      "source": [
        "학습 파일"
      ]
    },
    {
      "cell_type": "code",
      "metadata": {
        "id": "4LQ9etV0hRYA"
      },
      "source": [
        "%run myCode.py"
      ],
      "execution_count": null,
      "outputs": []
    },
    {
      "cell_type": "markdown",
      "metadata": {
        "id": "2UHM1psIqALa"
      },
      "source": [
        "예측 파일"
      ]
    },
    {
      "cell_type": "code",
      "metadata": {
        "id": "g1hdASZmhgBV"
      },
      "source": [
        "%run myPred.py"
      ],
      "execution_count": null,
      "outputs": []
    }
  ]
}