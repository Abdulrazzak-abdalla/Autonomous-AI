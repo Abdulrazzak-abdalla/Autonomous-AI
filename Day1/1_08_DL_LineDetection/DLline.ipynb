{
  "nbformat": 4,
  "nbformat_minor": 0,
  "metadata": {
    "colab": {
      "name": "DLline.ipynb",
      "provenance": [],
      "collapsed_sections": []
    },
    "kernelspec": {
      "display_name": "Python 3",
      "name": "python3"
    },
    "accelerator": "GPU"
  },
  "cells": [
    {
      "cell_type": "markdown",
      "metadata": {
        "id": "_MJ09naBjfA3"
      },
      "source": [
        "#<font color=blue>**딥러닝 차선 인식 실습**</font>\n",
        "\n",
        "\n",
        "각 셀을 순서대로 shift + ENTER로 실행"
      ]
    },
    {
      "cell_type": "markdown",
      "metadata": {
        "id": "1Qu0Fo5-ju48"
      },
      "source": [
        "##<font color=green>**구글 드라이브 연결**</font>"
      ]
    },
    {
      "cell_type": "code",
      "metadata": {
        "id": "G2ahZ7bf0hll"
      },
      "source": [
        "from google.colab import drive\n",
        "drive.mount('/content/drive')"
      ],
      "execution_count": null,
      "outputs": []
    },
    {
      "cell_type": "markdown",
      "metadata": {
        "id": "f9XyEVbEjyAl"
      },
      "source": [
        "##<font color=green>**구글 드라이브로 경로 이동**</font>"
      ]
    },
    {
      "cell_type": "code",
      "metadata": {
        "id": "NITSoKMytJa5"
      },
      "source": [
        "%cd /content/drive/MyDrive/"
      ],
      "execution_count": null,
      "outputs": []
    },
    {
      "cell_type": "markdown",
      "metadata": {
        "id": "bz4qCuk6j2G9"
      },
      "source": [
        "##<font color=green>**git의 Autonomous-AI 설치**</font>"
      ]
    },
    {
      "cell_type": "code",
      "metadata": {
        "id": "fMeypUVZJeUT"
      },
      "source": [
        "!git clone https://github.com/SESL-KMU/Autonomous-AI.git"
      ],
      "execution_count": null,
      "outputs": []
    },
    {
      "cell_type": "markdown",
      "metadata": {
        "id": "raEMEsmZlEsQ"
      },
      "source": [
        "##<font color=green>**딥러닝 차선 인식 코드 경로로 이동**</font>"
      ]
    },
    {
      "cell_type": "code",
      "metadata": {
        "id": "PdHHDvnXtahE"
      },
      "source": [
        "%cd Autonomous-AI/Day1/1_08_DL_LineDetection/"
      ],
      "execution_count": null,
      "outputs": []
    },
    {
      "cell_type": "markdown",
      "metadata": {
        "id": "StUthkT-lItz"
      },
      "source": [
        "## <font color=green>**딥러닝 차선인식을 적용하기위한 적절한 라이브러리 설치 진행**</font>\n",
        "####<font color=red>런타임이 초기화시 재설치 진행</font>"
      ]
    },
    {
      "cell_type": "code",
      "metadata": {
        "id": "h-rdya9OwH6q"
      },
      "source": [
        "!pip install tensorflow==1.15.0 gast==0.3.2"
      ],
      "execution_count": null,
      "outputs": []
    },
    {
      "cell_type": "code",
      "metadata": {
        "id": "WPbD2b2KjWeo"
      },
      "source": [
        "!pip install -r requirements.txt"
      ],
      "execution_count": null,
      "outputs": []
    },
    {
      "cell_type": "markdown",
      "metadata": {
        "id": "BTnISmRTlXE9"
      },
      "source": [
        "## <font color=green>**딥러닝 차선 인식 실습 진행**</font>"
      ]
    },
    {
      "cell_type": "code",
      "metadata": {
        "id": "MToJCByfuRe8"
      },
      "source": [
        "%run test_video_lanenet.py --weights_path ./model/tusimple_lanenet/tusimple_lanenet.ckpt --video_path ../0531_fps_20_short.mp4"
      ],
      "execution_count": null,
      "outputs": []
    }
  ]
}