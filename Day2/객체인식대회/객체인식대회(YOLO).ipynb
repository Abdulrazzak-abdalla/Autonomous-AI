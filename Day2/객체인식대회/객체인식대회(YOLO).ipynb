{
  "nbformat": 4,
  "nbformat_minor": 0,
  "metadata": {
    "colab": {
      "name": "Copy of 객체인식대회(YOLO).ipynb",
      "provenance": [],
      "collapsed_sections": []
    },
    "kernelspec": {
      "name": "python3",
      "display_name": "Python 3"
    }
  },
  "cells": [
    {
      "cell_type": "markdown",
      "metadata": {
        "id": "9HfjUmoKGAK6"
      },
      "source": [
        "#<font color=blue>**YOLO를 통한 버클리 데이터셋 학습**</font>"
      ]
    },
    {
      "cell_type": "markdown",
      "metadata": {
        "id": "_CZxR22KW8Gi"
      },
      "source": [
        "##<font color=green>**구글 드라이브 연결**</font>"
      ]
    },
    {
      "cell_type": "code",
      "metadata": {
        "id": "-4AUCPfVXjGI"
      },
      "source": [
        "from google.colab import drive\r\n",
        "drive.mount('/content/drive')"
      ],
      "execution_count": null,
      "outputs": []
    },
    {
      "cell_type": "markdown",
      "metadata": {
        "id": "JsZHPYo2GKnK"
      },
      "source": [
        "##<font color=green>**darknet yolo 폴더로 이동**\r\n",
        "2_04_YOLO 객체 인식 수업에서 이미 설치를 진행함"
      ]
    },
    {
      "cell_type": "code",
      "metadata": {
        "id": "zaIEuAaSF68R"
      },
      "source": [
        "cd drive/MyDrive/darknet/"
      ],
      "execution_count": null,
      "outputs": []
    },
    {
      "cell_type": "markdown",
      "metadata": {
        "id": "_JFeJtbgVwM2"
      },
      "source": [
        "##<font color=green>**버클리 데이터 업로드 진행**</font>"
      ]
    },
    {
      "cell_type": "code",
      "metadata": {
        "id": "Lwl1MW78qsnK"
      },
      "source": [
        "%cd data/\r\n",
        "!gdown --id 1_MLsDHKmoPSLBe3WuN1jrLWAvQoaOvQ2 --output BDD_data.zip"
      ],
      "execution_count": null,
      "outputs": []
    },
    {
      "cell_type": "markdown",
      "metadata": {
        "id": "J98LtalawGoa"
      },
      "source": [
        "####<font color=red>업로드한 BDD_data.zip 압축풀기"
      ]
    },
    {
      "cell_type": "code",
      "metadata": {
        "id": "LQbpNvF0q_a9"
      },
      "source": [
        "!unzip BDD_data.zip"
      ],
      "execution_count": null,
      "outputs": []
    },
    {
      "cell_type": "markdown",
      "metadata": {
        "id": "p9dnzgAc44AX"
      },
      "source": [
        "##<font color=green>**YOLO 학습 파라미터 수정**</font>\r\n",
        "drive/MyDrive/darknet/data 폴더안에 있는 yolov3-bdd100k.cfg 파일의 파라미터 값을 수정\r\n",
        "\r\n",
        "PDF 강의 자료 참고"
      ]
    },
    {
      "cell_type": "markdown",
      "metadata": {
        "id": "MJx5CTU2wZ_w"
      },
      "source": [
        "##<font color=green>**버클리 데이터 YOLO 학습 진행**\r\n",
        "Loss 그래프는 실시간으로 확인 X"
      ]
    },
    {
      "cell_type": "code",
      "metadata": {
        "id": "5Cxwp4eNtQdo"
      },
      "source": [
        "%cd ..\r\n",
        "!./darknet detector train data/bdd.data data/yolov3-bdd100k.cfg data/darknet53.conv.74 -dont_show"
      ],
      "execution_count": null,
      "outputs": []
    },
    {
      "cell_type": "markdown",
      "metadata": {
        "id": "72w1eV2hxa7I"
      },
      "source": [
        "####<font color=red>학습된 Loss 그래프 확인"
      ]
    },
    {
      "cell_type": "code",
      "metadata": {
        "id": "OeaZIu5kxT6P"
      },
      "source": [
        "def imShow(path):\r\n",
        "  import cv2\r\n",
        "  import matplotlib.pyplot as plt\r\n",
        "  %matplotlib inline\r\n",
        "\r\n",
        "  image = cv2.imread(path)\r\n",
        "  height, width = image.shape[:2]\r\n",
        "  resized_image = cv2.resize(image,(3*width, 3*height), interpolation = cv2.INTER_CUBIC)\r\n",
        "\r\n",
        "  fig = plt.gcf()\r\n",
        "  fig.set_size_inches(18, 10)\r\n",
        "  plt.axis(\"off\")\r\n",
        "  plt.imshow(cv2.cvtColor(resized_image, cv2.COLOR_BGR2RGB))\r\n",
        "  plt.show()\r\n",
        "\r\n",
        "imShow('chart.png')"
      ],
      "execution_count": null,
      "outputs": []
    },
    {
      "cell_type": "markdown",
      "metadata": {
        "id": "POpqDguex3pC"
      },
      "source": [
        "####<font color=red>대회 결과 다운로드</font>\r\n",
        "Loss 그래프\r\n",
        "\r\n",
        "파라미터 설정한 yolov3-bdd100k.cfg\r\n",
        "\r\n",
        "학습되어 도출된 weight값"
      ]
    },
    {
      "cell_type": "code",
      "metadata": {
        "id": "uGEi8sFdw4qd"
      },
      "source": [
        "from google.colab import files\r\n",
        "files.download('chart.png')\r\n",
        "files.download('data/yolov3-bdd100k.cfg')\r\n",
        "files.download('backup/yolov3-bdd100k_final.weights')"
      ],
      "execution_count": null,
      "outputs": []
    }
  ]
}