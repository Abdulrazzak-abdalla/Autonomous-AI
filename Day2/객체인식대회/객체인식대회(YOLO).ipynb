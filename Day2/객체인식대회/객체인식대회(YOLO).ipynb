{
  "nbformat": 4,
  "nbformat_minor": 0,
  "metadata": {
    "colab": {
      "name": "YOLOv5_객체_인식_대회_배포.ipynb",
      "provenance": [],
      "collapsed_sections": []
    },
    "kernelspec": {
      "name": "python3",
      "display_name": "Python 3"
    },
    "language_info": {
      "name": "python"
    }
  },
  "cells": [
    {
      "cell_type": "markdown",
      "metadata": {
        "id": "CL18qoWSf_rf"
      },
      "source": [
        "#<font color=blue>**YOLO를 통한 버클리 데이터셋 학습**</font>"
      ]
    },
    {
      "cell_type": "markdown",
      "metadata": {
        "id": "vRVhEx5wf_t3"
      },
      "source": [
        "##<font color=green>**버클리 데이터 업로드 진행**</font>"
      ]
    },
    {
      "cell_type": "markdown",
      "metadata": {
        "id": "YrBkZZFNf_wb"
      },
      "source": [
        "####<font color=red>구글 드라이브 업로드 "
      ]
    },
    {
      "cell_type": "code",
      "metadata": {
        "id": "3cMvpyyLlouW"
      },
      "source": [
        "from google.colab import drive\n",
        "drive.mount('/content/drive')"
      ],
      "execution_count": null,
      "outputs": []
    },
    {
      "cell_type": "markdown",
      "metadata": {
        "id": "box-lD14f_yl"
      },
      "source": [
        "####<font color=red>업로드한 BDD_data.zip 압축풀기"
      ]
    },
    {
      "cell_type": "code",
      "metadata": {
        "id": "1_R2sBFFluTz"
      },
      "source": [
        "!unzip /content/drive/MyDrive/DataSet.zip"
      ],
      "execution_count": null,
      "outputs": []
    },
    {
      "cell_type": "markdown",
      "metadata": {
        "id": "im0onX-Lf_1j"
      },
      "source": [
        "####<font color=red>각각의 데이터 개수 확인"
      ]
    },
    {
      "cell_type": "code",
      "metadata": {
        "id": "rJAu4oFElvxp"
      },
      "source": [
        "import os\n",
        "\n",
        "images_train=os.listdir('/content/DataSet/images/train/')\n",
        "images_val=os.listdir('/content/DataSet/images/val/')\n",
        "\n",
        "labels_train=os.listdir('/content/DataSet/labels/train/')\n",
        "labels_val=os.listdir('/content/DataSet/labels/val/')\n",
        "\n",
        "\n",
        "print(f'train images 개수:{len(images_train)}')\n",
        "print(f'validation images 개수:{len(images_val)}')\n",
        "\n",
        "print(\"\")\n",
        "print(f'train labels 개수:{len(labels_train)}')\n",
        "print(f'validation labels 개수:{len(labels_val)}')\n",
        "\n",
        "\n"
      ],
      "execution_count": null,
      "outputs": []
    },
    {
      "cell_type": "markdown",
      "metadata": {
        "id": "7cJs7FPClXfk"
      },
      "source": [
        "##<font color=green>**git의 YOLOv5 설치**</font>"
      ]
    },
    {
      "cell_type": "code",
      "metadata": {
        "id": "vq17GQN7lxGu"
      },
      "source": [
        "!git clone https://github.com/ultralytics/yolov5  # clone repo\n",
        "%cd yolov5\n",
        "%pip install -qr requirements.txt  # install dependencies\n",
        "\n",
        "import torch\n",
        "from IPython.display import Image, clear_output  # to display images\n",
        "\n",
        "clear_output()\n",
        "print(f\"Setup complete. Using torch {torch.__version__} ({torch.cuda.get_device_properties(0).name if torch.cuda.is_available() else 'CPU'})\")"
      ],
      "execution_count": null,
      "outputs": []
    },
    {
      "cell_type": "markdown",
      "metadata": {
        "id": "Z2bMufFDlXh5"
      },
      "source": [
        "##<font color=green>**학습 시작**</font>"
      ]
    },
    {
      "cell_type": "code",
      "metadata": {
        "id": "UJbSvJV6lyM8"
      },
      "source": [
        "# Train YOLOv5s on custom_data for 20 epochs\n",
        "!python train.py --img 640 --batch 16 --epochs 10 --data custom_data.yaml --weights yolov5s.pt --cache"
      ],
      "execution_count": null,
      "outputs": []
    },
    {
      "cell_type": "code",
      "metadata": {
        "id": "WN0bIYDEl0nw"
      },
      "source": [
        "!ls runs/train/exp"
      ],
      "execution_count": null,
      "outputs": []
    },
    {
      "cell_type": "markdown",
      "metadata": {
        "id": "zeeaD-nolXkI"
      },
      "source": [
        "####<font color=red>학습된 Loss 그래프 확인"
      ]
    },
    {
      "cell_type": "code",
      "metadata": {
        "id": "H3WxCoZ7l1--"
      },
      "source": [
        "from IPython.display import Image as Display # to display images\n",
        "Display(filename='runs/train/exp/results.png', width=1080)"
      ],
      "execution_count": null,
      "outputs": []
    },
    {
      "cell_type": "markdown",
      "metadata": {
        "id": "XZ2GKSHVlf1k"
      },
      "source": [
        "####<font color=red>텐서보드를 통해 Loss 그래프 확인"
      ]
    },
    {
      "cell_type": "code",
      "metadata": {
        "id": "XPfWkw2Ql3Qp"
      },
      "source": [
        "%reload_ext tensorboard\n",
        "# TensorBoard 준비하기\n",
        "%load_ext tensorboard\n",
        "%tensorboard --logdir ./runs"
      ],
      "execution_count": null,
      "outputs": []
    },
    {
      "cell_type": "markdown",
      "metadata": {
        "id": "r2YDU8SWliWi"
      },
      "source": [
        "####<font color=red>원하는 이미지로 테스트</font>"
      ]
    },
    {
      "cell_type": "code",
      "metadata": {
        "id": "-rXgeTHal4nk"
      },
      "source": [
        "!python detect.py --weights yolov5s.pt --img 640 --conf 0.25 --source ../car.png"
      ],
      "execution_count": null,
      "outputs": []
    },
    {
      "cell_type": "markdown",
      "metadata": {
        "id": "VHHp1OHVlk12"
      },
      "source": [
        "####<font color=red>대회 결과 다운로드</font>\n",
        "Loss 그래프\n",
        "\n",
        "yaml 파일\n",
        "\n",
        "마지막까지 학습되어 도출된 모델\n",
        "\n",
        "학습중 베스트 모델"
      ]
    },
    {
      "cell_type": "code",
      "metadata": {
        "id": "qicSZkfol-We"
      },
      "source": [
        "from google.colab import files\n",
        "files.download('/content/yolov5/runs/train/exp/results.png')\n",
        "files.download('/content/yolov5/data/custom_data.yaml')\n",
        "files.download('/content/yolov5/runs/train/exp/weights/last.pt')\n",
        "files.download('/content/yolov5/runs/train/exp/weights/best.pt')\n"
      ],
      "execution_count": null,
      "outputs": []
    }
  ]
}
