{
  "nbformat": 4,
  "nbformat_minor": 0,
  "metadata": {
    "colab": {
      "name": "객체인식대회(YOLO).ipynb",
      "provenance": []
    },
    "kernelspec": {
      "name": "python3",
      "display_name": "Python 3"
    },
    "accelerator": "GPU"
  },
  "cells": [
    {
      "cell_type": "markdown",
      "metadata": {
        "id": "9HfjUmoKGAK6"
      },
      "source": [
        "#<font color=blue>**YOLO를 통한 버클리 데이터셋 학습**</font>"
      ]
    },
    {
      "cell_type": "markdown",
      "metadata": {
        "id": "_CZxR22KW8Gi"
      },
      "source": [
        "##<font color=green>**구글 드라이브 연결**</font>"
      ]
    },
    {
      "cell_type": "code",
      "metadata": {
        "colab": {
          "base_uri": "https://localhost:8080/"
        },
        "id": "-4AUCPfVXjGI",
        "outputId": "8f5f9200-a6a5-418a-cc66-a3dd179588d0"
      },
      "source": [
        "from google.colab import drive\r\n",
        "drive.mount('/content/drive')"
      ],
      "execution_count": 1,
      "outputs": [
        {
          "output_type": "stream",
          "text": [
            "Mounted at /content/drive\n"
          ],
          "name": "stdout"
        }
      ]
    },
    {
      "cell_type": "markdown",
      "metadata": {
        "id": "JsZHPYo2GKnK"
      },
      "source": [
        "##<font color=green>**darknet yolo 폴더로 이동**\r\n",
        "2_04_YOLO 객체 인식 수업에서 이미 설치를 진행함"
      ]
    },
    {
      "cell_type": "code",
      "metadata": {
        "colab": {
          "base_uri": "https://localhost:8080/"
        },
        "id": "zaIEuAaSF68R",
        "outputId": "6a38120f-06bf-49ac-8957-2bb46c7ebf8b"
      },
      "source": [
        "cd drive/MyDrive/darknet/"
      ],
      "execution_count": 2,
      "outputs": [
        {
          "output_type": "stream",
          "text": [
            "/content/drive/MyDrive/darknet\n"
          ],
          "name": "stdout"
        }
      ]
    },
    {
      "cell_type": "markdown",
      "metadata": {
        "id": "os3Y2ec6hXDj"
      },
      "source": [
        "##<font color=green>**yolov3 convolution layer 모델 설치**</font>"
      ]
    },
    {
      "cell_type": "code",
      "metadata": {
        "colab": {
          "base_uri": "https://localhost:8080/"
        },
        "id": "dOt8vBFjZ78l",
        "outputId": "1773a0bd-fd52-47ae-cc70-920b9a0c194a"
      },
      "source": [
        "!wget https://pjreddie.com/media/files/darknet53.conv.74"
      ],
      "execution_count": 3,
      "outputs": [
        {
          "output_type": "stream",
          "text": [
            "--2021-01-17 00:16:18--  https://pjreddie.com/media/files/darknet53.conv.74\n",
            "Resolving pjreddie.com (pjreddie.com)... 128.208.4.108\n",
            "Connecting to pjreddie.com (pjreddie.com)|128.208.4.108|:443... connected.\n",
            "HTTP request sent, awaiting response... 200 OK\n",
            "Length: 162482580 (155M) [application/octet-stream]\n",
            "Saving to: ‘darknet53.conv.74.1’\n",
            "\n",
            "darknet53.conv.74.1 100%[===================>] 154.96M  9.86MB/s    in 16s     \n",
            "\n",
            "2021-01-17 00:16:35 (9.66 MB/s) - ‘darknet53.conv.74.1’ saved [162482580/162482580]\n",
            "\n"
          ],
          "name": "stdout"
        }
      ]
    },
    {
      "cell_type": "markdown",
      "metadata": {
        "id": "_JFeJtbgVwM2"
      },
      "source": [
        "##<font color=green>**버클리 데이터 업로드 진행**</font>"
      ]
    },
    {
      "cell_type": "markdown",
      "metadata": {
        "id": "lUTgvTfXqlMO"
      },
      "source": [
        "17GJj5XoLYMw_DxvH486BV8c08ycExRWn"
      ]
    },
    {
      "cell_type": "code",
      "metadata": {
        "colab": {
          "base_uri": "https://localhost:8080/"
        },
        "id": "Lwl1MW78qsnK",
        "outputId": "128c900d-876c-411b-e658-14e24db4f6ac"
      },
      "source": [
        "%cd data/\r\n",
        "!gdown --id 1_MLsDHKmoPSLBe3WuN1jrLWAvQoaOvQ2 --output BDD_data.zip"
      ],
      "execution_count": 7,
      "outputs": [
        {
          "output_type": "stream",
          "text": [
            "Downloading...\n",
            "From: https://drive.google.com/uc?id=1_MLsDHKmoPSLBe3WuN1jrLWAvQoaOvQ2\n",
            "To: /content/drive/My Drive/darknet/BDD_data.zip\n",
            "346MB [00:04, 81.7MB/s]\n"
          ],
          "name": "stdout"
        }
      ]
    },
    {
      "cell_type": "code",
      "metadata": {
        "colab": {
          "base_uri": "https://localhost:8080/"
        },
        "id": "LQbpNvF0q_a9",
        "outputId": "26b527fc-57af-4304-ac91-7c95d9328906"
      },
      "source": [
        "!unzip BDD_data.zip"
      ],
      "execution_count": 10,
      "outputs": [
        {
          "output_type": "stream",
          "text": [
            "Archive:  BDD_data.zip\n",
            "replace bdd.data? [y]es, [n]o, [A]ll, [N]one, [r]ename: "
          ],
          "name": "stdout"
        }
      ]
    },
    {
      "cell_type": "code",
      "metadata": {
        "id": "5Cxwp4eNtQdo"
      },
      "source": [
        "!./darknet detector train data/bdd.data data/yolov3-bdd100k.cfg darknet53.conv.74 -dont_show"
      ],
      "execution_count": null,
      "outputs": []
    }
  ]
}