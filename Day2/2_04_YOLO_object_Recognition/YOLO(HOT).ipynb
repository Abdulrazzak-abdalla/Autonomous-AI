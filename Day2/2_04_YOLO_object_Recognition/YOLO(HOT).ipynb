{
  "nbformat": 4,
  "nbformat_minor": 0,
  "metadata": {
    "colab": {
      "name": "YOLO(HOT).ipynb",
      "provenance": [],
      "collapsed_sections": [],
      "toc_visible": true
    },
    "kernelspec": {
      "name": "python3",
      "display_name": "Python 3"
    },
    "accelerator": "GPU"
  },
  "cells": [
    {
      "cell_type": "markdown",
      "metadata": {
        "id": "zEL1RCn4GOQb"
      },
      "source": [
        "#<font color=blue>**YOLO 객체 인식 실습**</font>\r\n",
        "각 셀을 순서대로 shift + ENTER로 실행"
      ]
    },
    {
      "cell_type": "markdown",
      "metadata": {
        "id": "_CZxR22KW8Gi"
      },
      "source": [
        "##<font color=green>**구글 드라이브 연결**</font>"
      ]
    },
    {
      "cell_type": "code",
      "metadata": {
        "id": "-4AUCPfVXjGI"
      },
      "source": [
        "from google.colab import drive\r\n",
        "drive.mount('/content/drive')"
      ],
      "execution_count": null,
      "outputs": []
    },
    {
      "cell_type": "markdown",
      "metadata": {
        "id": "wUz5HiprGVvn"
      },
      "source": [
        "##<font color=green>**구글 드라이브 경로로 이동**</font>"
      ]
    },
    {
      "cell_type": "code",
      "metadata": {
        "id": "dnm_1p24BHXD"
      },
      "source": [
        "cd drive/MyDrive/"
      ],
      "execution_count": null,
      "outputs": []
    },
    {
      "cell_type": "markdown",
      "metadata": {
        "id": "Eo82GCPkGgjN"
      },
      "source": [
        "##<font color=green>**git의 Darknet_YOLO 설치**</font>"
      ]
    },
    {
      "cell_type": "code",
      "metadata": {
        "id": "d3XvFa_1CSUm"
      },
      "source": [
        "!git clone https://github.com/AlexeyAB/darknet"
      ],
      "execution_count": null,
      "outputs": []
    },
    {
      "cell_type": "markdown",
      "metadata": {
        "id": "QZFN7OrsGxn2"
      },
      "source": [
        "##<font color=green>**OPENCV, GPU 사용 여부 설정**</font>"
      ]
    },
    {
      "cell_type": "code",
      "metadata": {
        "id": "aoQqCwQ8CSzP"
      },
      "source": [
        "%cd darknet/\r\n",
        "!sed -i 's/OPENCV=0/OPENCV=1/' Makefile\r\n",
        "!sed -i 's/GPU=0/GPU=1/' Makefile\r\n",
        "!sed -i 's/CUDNN=0/CUDNN=1/' Makefile"
      ],
      "execution_count": null,
      "outputs": []
    },
    {
      "cell_type": "markdown",
      "metadata": {
        "id": "NK4jA_BTHJ20"
      },
      "source": [
        "##<font color=green>**YOLO 빌드**</font>"
      ]
    },
    {
      "cell_type": "code",
      "metadata": {
        "id": "xdaqtJXMEB4-"
      },
      "source": [
        "!make"
      ],
      "execution_count": null,
      "outputs": []
    },
    {
      "cell_type": "markdown",
      "metadata": {
        "id": "RQJ3vthnHQrf"
      },
      "source": [
        "##<font color=green>**유용한 함수 구성**</font>\r\n",
        "imShow() : 저장된 이미지 출력\r\n",
        "\r\n",
        "upload() : 현재 폴더 경로에 파일 업로드\r\n",
        "\r\n",
        "download() : 현재 폴더 경로의 파일다운로드"
      ]
    },
    {
      "cell_type": "code",
      "metadata": {
        "id": "J634NpsgEG33"
      },
      "source": [
        "# define helper functions\r\n",
        "def imShow(path):\r\n",
        "  import cv2\r\n",
        "  import matplotlib.pyplot as plt\r\n",
        "  %matplotlib inline\r\n",
        "\r\n",
        "  image = cv2.imread(path)\r\n",
        "  height, width = image.shape[:2]\r\n",
        "  resized_image = cv2.resize(image,(3*width, 3*height), interpolation = cv2.INTER_CUBIC)\r\n",
        "\r\n",
        "  fig = plt.gcf()\r\n",
        "  fig.set_size_inches(18, 10)\r\n",
        "  plt.axis(\"off\")\r\n",
        "  plt.imshow(cv2.cvtColor(resized_image, cv2.COLOR_BGR2RGB))\r\n",
        "  plt.show()\r\n",
        "\r\n",
        "# use this to upload files\r\n",
        "def upload():\r\n",
        "  from google.colab import files\r\n",
        "  uploaded = files.upload() \r\n",
        "  for name, data in uploaded.items():\r\n",
        "    with open(name, 'wb') as f:\r\n",
        "      f.write(data)\r\n",
        "      print ('saved file', name)\r\n",
        "\r\n",
        "# use this to download a file  \r\n",
        "def download(path):\r\n",
        "  from google.colab import files\r\n",
        "  files.download(path)"
      ],
      "execution_count": null,
      "outputs": []
    },
    {
      "cell_type": "markdown",
      "metadata": {
        "id": "9fM1vW4fHXQU"
      },
      "source": [
        "##<font color=green>**yolov3 weight 설치**</font>"
      ]
    },
    {
      "cell_type": "code",
      "metadata": {
        "id": "ECdpr3w1EyLP"
      },
      "source": [
        "!wget https://pjreddie.com/media/files/yolov3.weights"
      ],
      "execution_count": null,
      "outputs": []
    },
    {
      "cell_type": "markdown",
      "metadata": {
        "id": "Nslq6akoJHVz"
      },
      "source": [
        "##<font color=green>**yolov4 weight 설치**</font>"
      ]
    },
    {
      "cell_type": "code",
      "metadata": {
        "id": "rYOPXZU6IvjH"
      },
      "source": [
        "!wget https://github.com/AlexeyAB/darknet/releases/download/darknet_yolo_v3_optimal/yolov4.weights"
      ],
      "execution_count": null,
      "outputs": []
    },
    {
      "cell_type": "markdown",
      "metadata": {
        "id": "YfpkB2nfJSOO"
      },
      "source": [
        "##<font color=green>**yolov3 이미지 실습**</font>"
      ]
    },
    {
      "cell_type": "code",
      "metadata": {
        "id": "R96kVYQkE1o8"
      },
      "source": [
        "!./darknet detect cfg/yolov3.cfg yolov3.weights data/dog.jpg\r\n",
        "imShow('predictions.jpg')"
      ],
      "execution_count": null,
      "outputs": []
    },
    {
      "cell_type": "markdown",
      "metadata": {
        "id": "XWWahjhUd18s"
      },
      "source": [
        "##<font color=green>**yolov4 이미지 실습**</font>"
      ]
    },
    {
      "cell_type": "code",
      "metadata": {
        "id": "8BEdbhKSGJnC"
      },
      "source": [
        "!./darknet detect cfg/yolov4.cfg yolov4.weights data/dog.jpg\r\n",
        "imShow('predictions.jpg')"
      ],
      "execution_count": null,
      "outputs": []
    },
    {
      "cell_type": "markdown",
      "metadata": {
        "id": "_JFeJtbgVwM2"
      },
      "source": [
        "##<font color=green>**데이터 업로드 진행**</font>"
      ]
    },
    {
      "cell_type": "markdown",
      "metadata": {
        "id": "qKCEr-KyXY3-"
      },
      "source": [
        "####<font color=red>KITTI_data.mp4 다운로드</font>"
      ]
    },
    {
      "cell_type": "code",
      "metadata": {
        "id": "Lwl1MW78qsnK"
      },
      "source": [
        "!gdown --id 1V68xfo5-YrpHgh0IPuAPWD21rM6U17hW --output KITTI_data.mp4"
      ],
      "execution_count": null,
      "outputs": []
    },
    {
      "cell_type": "markdown",
      "metadata": {
        "id": "x9NqmFtbd9Q5"
      },
      "source": [
        "#<font color=green>**yolov3 영상데이터 실습**</font>"
      ]
    },
    {
      "cell_type": "code",
      "metadata": {
        "id": "ZZgLrErNKtJ0"
      },
      "source": [
        "!./darknet detector demo cfg/coco.data cfg/yolov3.cfg yolov3.weights -dont_show KITTI_data.mp4 -out_filename yolo_video.avi"
      ],
      "execution_count": null,
      "outputs": []
    },
    {
      "cell_type": "markdown",
      "metadata": {
        "id": "I91egmTRVadS"
      },
      "source": [
        "####<font color=red>Mask R-CNN 적용된 KITTI_data 다운로드</font>"
      ]
    },
    {
      "cell_type": "code",
      "metadata": {
        "id": "9jlhFbvfO7vo"
      },
      "source": [
        "from google.colab import files\r\n",
        "files.download('yolo_video.avi')"
      ],
      "execution_count": null,
      "outputs": []
    }
  ]
}