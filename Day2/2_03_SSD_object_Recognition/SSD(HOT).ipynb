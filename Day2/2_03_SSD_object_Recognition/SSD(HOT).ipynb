{
  "nbformat": 4,
  "nbformat_minor": 0,
  "metadata": {
    "colab": {
      "name": "SSD(HOT).ipynb",
      "provenance": [],
      "collapsed_sections": [],
      "toc_visible": true
    },
    "kernelspec": {
      "display_name": "Python 3",
      "name": "python3"
    },
    "accelerator": "GPU"
  },
  "cells": [
    {
      "cell_type": "markdown",
      "metadata": {
        "id": "ljyfmbrDZPpY"
      },
      "source": [
        "#<font color=blue>**SSD 객체 인식 실습**</font>\r\n",
        "각 셀을 순서대로 shift + ENTER로 실행"
      ]
    },
    {
      "cell_type": "markdown",
      "metadata": {
        "id": "_CZxR22KW8Gi"
      },
      "source": [
        "##<font color=green>**구글 드라이브 연결**</font>"
      ]
    },
    {
      "cell_type": "code",
      "metadata": {
        "id": "-4AUCPfVXjGI"
      },
      "source": [
        "from google.colab import drive\r\n",
        "drive.mount('/content/drive')"
      ],
      "execution_count": null,
      "outputs": []
    },
    {
      "cell_type": "markdown",
      "metadata": {
        "id": "qd1U0g0na3xX"
      },
      "source": [
        "##<font color=green>**SSD를 적용하기위한 적절한 라이브러리 설치 진행**\r\n",
        "####<font color=red>런타임 초기화시 재설치 진행</font>"
      ]
    },
    {
      "cell_type": "code",
      "metadata": {
        "id": "NUWAxkj0a1kv"
      },
      "source": [
        "!pip install tensorboard==1.15.0 tensorflow==1.15.0 tensorflow-estimator==1.15.1 tensorflow-gpu==1.15.2 tensorflow-gpu-estimator==2.1.0 Keras==2.2.5 Keras-Applications==1.0.8 Keras-Preprocessing==1.1.0"
      ],
      "execution_count": null,
      "outputs": []
    },
    {
      "cell_type": "markdown",
      "metadata": {
        "id": "PprcdAulbFG-"
      },
      "source": [
        "##<font color=green>**구글 드라이브로 경로 이동**"
      ]
    },
    {
      "cell_type": "code",
      "metadata": {
        "id": "-c3wD6BaocHO"
      },
      "source": [
        "cd drive/MyDrive/"
      ],
      "execution_count": null,
      "outputs": []
    },
    {
      "cell_type": "markdown",
      "metadata": {
        "id": "vRWGOg--dBuA"
      },
      "source": [
        "##<font color=green>**git의 SSD 설치**"
      ]
    },
    {
      "cell_type": "code",
      "metadata": {
        "id": "_nCrKIyurWRe"
      },
      "source": [
        "!git clone https://github.com/balancap/SSD-Tensorflow.git"
      ],
      "execution_count": null,
      "outputs": []
    },
    {
      "cell_type": "markdown",
      "metadata": {
        "id": "ultot3PIq26_"
      },
      "source": [
        "##<font color=green>**vgg 모델 설치**</font>"
      ]
    },
    {
      "cell_type": "code",
      "metadata": {
        "id": "WmoSV42stM2h"
      },
      "source": [
        "%cd SSD-Tensorflow/checkpoints/\r\n",
        "!unzip ssd_300_vgg.ckpt.zip"
      ],
      "execution_count": null,
      "outputs": []
    },
    {
      "cell_type": "markdown",
      "metadata": {
        "id": "VZlQq-Q4shrH"
      },
      "source": [
        "##<font color=green>**실습 폴더 경로로 이동**</font>"
      ]
    },
    {
      "cell_type": "code",
      "metadata": {
        "id": "oNTPD7mruTLZ"
      },
      "source": [
        "cd ../notebooks/"
      ],
      "execution_count": null,
      "outputs": []
    },
    {
      "cell_type": "markdown",
      "metadata": {
        "id": "OVFAavV6unzh"
      },
      "source": [
        "##<font color=green>**SSD 실습 코드**</font>"
      ]
    },
    {
      "cell_type": "markdown",
      "metadata": {
        "id": "B0uGHeEzs33e"
      },
      "source": [
        "####<font color=red>라이브러리 설정</font>"
      ]
    },
    {
      "cell_type": "code",
      "metadata": {
        "id": "-Jq2ZFPVuiPF"
      },
      "source": [
        "import os\r\n",
        "import math\r\n",
        "import random\r\n",
        "\r\n",
        "import numpy as np\r\n",
        "import tensorflow as tf\r\n",
        "import cv2\r\n",
        "\r\n",
        "slim = tf.contrib.slim\r\n",
        "\r\n",
        "%matplotlib inline\r\n",
        "import matplotlib.pyplot as plt\r\n",
        "import matplotlib.image as mpimg\r\n",
        "\r\n",
        "import sys\r\n",
        "sys.path.append('../')\r\n",
        "\r\n",
        "from nets import ssd_vgg_300, ssd_common, np_methods\r\n",
        "from preprocessing import ssd_vgg_preprocessing\r\n",
        "from notebooks import visualization"
      ],
      "execution_count": null,
      "outputs": []
    },
    {
      "cell_type": "markdown",
      "metadata": {
        "id": "viRaS_-muu3U"
      },
      "source": [
        "####<font color=red>학습된 모델 및 설정 적용</font>"
      ]
    },
    {
      "cell_type": "code",
      "metadata": {
        "colab": {
          "base_uri": "https://localhost:8080/"
        },
        "id": "23NcvYl6vAHk",
        "outputId": "5dd7b694-4d8b-49d3-8661-10a123241ec2"
      },
      "source": [
        "gpu_options = tf.GPUOptions(allow_growth=True)\r\n",
        "config = tf.ConfigProto(log_device_placement=False, gpu_options=gpu_options)\r\n",
        "isess = tf.InteractiveSession(config=config)\r\n",
        "# Input placeholder.\r\n",
        "net_shape = (300, 300)\r\n",
        "data_format = 'NHWC'\r\n",
        "img_input = tf.placeholder(tf.uint8, shape=(None, None, 3))\r\n",
        "# Evaluation pre-processing: resize to SSD net shape.\r\n",
        "image_pre, labels_pre, bboxes_pre, bbox_img = ssd_vgg_preprocessing.preprocess_for_eval(\r\n",
        "    img_input, None, None, net_shape, data_format, resize=ssd_vgg_preprocessing.Resize.WARP_RESIZE)\r\n",
        "image_4d = tf.expand_dims(image_pre, 0)\r\n",
        "\r\n",
        "# Define the SSD model.\r\n",
        "reuse = True if 'ssd_net' in locals() else None\r\n",
        "ssd_net = ssd_vgg_300.SSDNet()\r\n",
        "with slim.arg_scope(ssd_net.arg_scope(data_format=data_format)):\r\n",
        "    predictions, localisations, _, _ = ssd_net.net(image_4d, is_training=False, reuse=reuse)\r\n",
        "\r\n",
        "# Restore SSD model.\r\n",
        "ckpt_filename = '../checkpoints/ssd_300_vgg.ckpt'\r\n",
        "# ckpt_filename = '../checkpoints/VGG_VOC0712_SSD_300x300_ft_iter_120000.ckpt'\r\n",
        "isess.run(tf.global_variables_initializer())\r\n",
        "saver = tf.train.Saver()\r\n",
        "saver.restore(isess, ckpt_filename)\r\n",
        "\r\n",
        "# SSD default anchor boxes.\r\n",
        "ssd_anchors = ssd_net.anchors(net_shape)"
      ],
      "execution_count": null,
      "outputs": [
        {
          "output_type": "stream",
          "text": [
            "WARNING:tensorflow:From ../preprocessing/ssd_vgg_preprocessing.py:318: to_float (from tensorflow.python.ops.math_ops) is deprecated and will be removed in a future version.\n",
            "Instructions for updating:\n",
            "Use `tf.cast` instead.\n",
            "WARNING:tensorflow:From ../preprocessing/tf_image.py:275: The name tf.image.resize_images is deprecated. Please use tf.image.resize instead.\n",
            "\n",
            "WARNING:tensorflow:From ../nets/ssd_vgg_300.py:450: The name tf.variable_scope is deprecated. Please use tf.compat.v1.variable_scope instead.\n",
            "\n",
            "WARNING:tensorflow:From /usr/local/lib/python3.6/dist-packages/tensorflow_core/contrib/layers/python/layers/layers.py:1057: Layer.apply (from tensorflow.python.keras.engine.base_layer) is deprecated and will be removed in a future version.\n",
            "Instructions for updating:\n",
            "Please use `layer.__call__` method instead.\n",
            "WARNING:tensorflow:From ../nets/ssd_vgg_300.py:476: dropout (from tensorflow.python.layers.core) is deprecated and will be removed in a future version.\n",
            "Instructions for updating:\n",
            "Use keras.layers.dropout instead.\n",
            "INFO:tensorflow:Restoring parameters from ../checkpoints/ssd_300_vgg.ckpt\n"
          ],
          "name": "stdout"
        }
      ]
    },
    {
      "cell_type": "markdown",
      "metadata": {
        "id": "GJHK-KPGu54h"
      },
      "source": [
        "####<font color=red>이미지 SSD 적용 함수 구성</font>"
      ]
    },
    {
      "cell_type": "code",
      "metadata": {
        "id": "5raFC-J5vDbL"
      },
      "source": [
        "# Main image processing routine.\r\n",
        "def process_image(img, select_threshold=0.5, nms_threshold=.45, net_shape=(300, 300)):\r\n",
        "    # Run SSD network.\r\n",
        "    rimg, rpredictions, rlocalisations, rbbox_img = isess.run([image_4d, predictions, localisations, bbox_img],\r\n",
        "                                                              feed_dict={img_input: img})\r\n",
        "    \r\n",
        "    # Get classes and bboxes from the net outputs.\r\n",
        "    rclasses, rscores, rbboxes = np_methods.ssd_bboxes_select(\r\n",
        "            rpredictions, rlocalisations, ssd_anchors,\r\n",
        "            select_threshold=select_threshold, img_shape=net_shape, num_classes=21, decode=True)\r\n",
        "    \r\n",
        "    rbboxes = np_methods.bboxes_clip(rbbox_img, rbboxes)\r\n",
        "    rclasses, rscores, rbboxes = np_methods.bboxes_sort(rclasses, rscores, rbboxes, top_k=400)\r\n",
        "    rclasses, rscores, rbboxes = np_methods.bboxes_nms(rclasses, rscores, rbboxes, nms_threshold=nms_threshold)\r\n",
        "    # Resize bboxes to original image shape. Note: useless for Resize.WARP!\r\n",
        "    rbboxes = np_methods.bboxes_resize(rbbox_img, rbboxes)\r\n",
        "    return rclasses, rscores, rbboxes"
      ],
      "execution_count": null,
      "outputs": []
    },
    {
      "cell_type": "markdown",
      "metadata": {
        "id": "7sTR2p39vD_u"
      },
      "source": [
        "####<font color=red>이미지 데이터에 SSD 적용 실습 진행</font>\r\n",
        "경로를 지정한 이미지에 SSD 적용\r\n",
        "img = mpimg.imread('적용하고자하는이미지 경로')\r\n",
        "\r\n"
      ]
    },
    {
      "cell_type": "code",
      "metadata": {
        "id": "TQM31vqDvHmO"
      },
      "source": [
        "# Test on some demo image and visualize output.\r\n",
        "\r\n",
        "img = mpimg.imread('/content/drive/MyDrive/SSD-Tensorflow/demo/dog.jpg')\r\n",
        "rclasses, rscores, rbboxes =  process_image(img)\r\n",
        "\r\n",
        "# visualization.bboxes_draw_on_img(img, rclasses, rscores, rbboxes, visualization.colors_plasma)\r\n",
        "visualization.plt_bboxes(img, rclasses, rscores, rbboxes)"
      ],
      "execution_count": null,
      "outputs": []
    },
    {
      "cell_type": "markdown",
      "metadata": {
        "id": "6RUX8Opd792l"
      },
      "source": [
        "##<font color=green>**데이터 업로드 진행**"
      ]
    },
    {
      "cell_type": "markdown",
      "metadata": {
        "id": "qKCEr-KyXY3-"
      },
      "source": [
        "####<font color=red>KITTI_data.mp4 다운로드</font>"
      ]
    },
    {
      "cell_type": "code",
      "metadata": {
        "id": "Lwl1MW78qsnK"
      },
      "source": [
        "!gdown --id 1V68xfo5-YrpHgh0IPuAPWD21rM6U17hW --output KITTI_data.mp4"
      ],
      "execution_count": null,
      "outputs": []
    },
    {
      "cell_type": "markdown",
      "metadata": {
        "id": "LxqerILKx2kn"
      },
      "source": [
        "##<font color=green>**SSD 영상 실습**</font>"
      ]
    },
    {
      "cell_type": "markdown",
      "metadata": {
        "id": "hkoOvZ1Uz04I"
      },
      "source": [
        "####<font color=red>라이브러리 설정</font>"
      ]
    },
    {
      "cell_type": "code",
      "metadata": {
        "id": "elMCrU3SyL6u"
      },
      "source": [
        "import os\r\n",
        "import math\r\n",
        "import random\r\n",
        "\r\n",
        "import numpy as np\r\n",
        "import tensorflow as tf\r\n",
        "import cv2\r\n",
        "import time\r\n",
        "slim = tf.contrib.slim\r\n",
        "import matplotlib.pyplot as plt\r\n",
        "import matplotlib.image as mpimg\r\n",
        "import sys\r\n",
        "sys.path.append('../')\r\n",
        "from nets import ssd_vgg_300, ssd_common, np_methods\r\n",
        "from preprocessing import ssd_vgg_preprocessing\r\n",
        "from notebooks import visualization"
      ],
      "execution_count": null,
      "outputs": []
    },
    {
      "cell_type": "markdown",
      "metadata": {
        "id": "hRfyHBR5EVIy"
      },
      "source": [
        "####<font color = red>적용하고자하는 영상 데이터 지정</font>\r\n",
        "\r\n",
        "capture = cv2.VideoCapture('적용하고자하는 비디오데이터')"
      ]
    },
    {
      "cell_type": "code",
      "metadata": {
        "id": "2W7dWdSyEihe"
      },
      "source": [
        "capture = cv2.VideoCapture('KITTI_data.mp4')\r\n",
        "size = (\r\n",
        "    int(capture.get(cv2.CAP_PROP_FRAME_WIDTH)),\r\n",
        "    int(capture.get(cv2.CAP_PROP_FRAME_HEIGHT))\r\n",
        ")"
      ],
      "execution_count": null,
      "outputs": []
    },
    {
      "cell_type": "markdown",
      "metadata": {
        "id": "SeJYgLCv0htx"
      },
      "source": [
        "####<font color=red>학습 모델 및 설정 적용"
      ]
    },
    {
      "cell_type": "code",
      "metadata": {
        "id": "I5GJQMiuyM6F"
      },
      "source": [
        "gpu_options = tf.GPUOptions(allow_growth=False)\r\n",
        "config = tf.ConfigProto(log_device_placement=False, gpu_options=gpu_options)\r\n",
        "isess = tf.InteractiveSession(config=config)\r\n",
        "net_shape = (\r\n",
        "    int(capture.get(cv2.CAP_PROP_FRAME_HEIGHT)),\r\n",
        "    int(capture.get(cv2.CAP_PROP_FRAME_WIDTH))\r\n",
        ")\r\n",
        "data_format = 'NHWC'\r\n",
        "img_input = tf.placeholder(tf.uint8, shape=(None, None, 3))\r\n",
        "image_pre, labels_pre, bboxes_pre, bbox_img = ssd_vgg_preprocessing.preprocess_for_eval(img_input, None, None, net_shape, data_format, resize=ssd_vgg_preprocessing.Resize.WARP_RESIZE)\r\n",
        "image_4d = tf.expand_dims(image_pre, 0)\r\n",
        "reuse = True if 'ssd_net' in locals() else None\r\n",
        "ssd_net = ssd_vgg_300.SSDNet()\r\n",
        "with slim.arg_scope(ssd_net.arg_scope(data_format=data_format)):\r\n",
        "    predictions, localisations, _, _ = ssd_net.net(image_4d, is_training=False, reuse=reuse)\r\n",
        "ckpt_filename = '../checkpoints/ssd_300_vgg.ckpt'\r\n",
        "isess.run(tf.global_variables_initializer())\r\n",
        "saver = tf.train.Saver()\r\n",
        "saver.restore(isess, ckpt_filename)\r\n",
        "ssd_anchors = ssd_net.anchors(net_shape)"
      ],
      "execution_count": null,
      "outputs": []
    },
    {
      "cell_type": "markdown",
      "metadata": {
        "id": "3yAHMPVd0rEz"
      },
      "source": [
        "####<font color=red>이미지 SSD 적용 함수 구성</font>\r\n",
        "이미지에 SSD 적용 시의 클래스, 정확도, 경계박스 정보 도출"
      ]
    },
    {
      "cell_type": "code",
      "metadata": {
        "id": "Q4CSZihvybG9"
      },
      "source": [
        "def process_image(img, select_threshold=0.45, nms_threshold=.45, net_shape=net_shape):\r\n",
        "    rimg, rpredictions, rlocalisations, rbbox_img = isess.run([image_4d, predictions, localisations, bbox_img], feed_dict={img_input: img})\r\n",
        "    rclasses, rscores, rbboxes = np_methods.ssd_bboxes_select( rpredictions, rlocalisations, ssd_anchors, select_threshold=select_threshold, img_shape=net_shape, num_classes=21, decode=True)\r\n",
        "    rbboxes = np_methods.bboxes_clip(rbbox_img, rbboxes)\r\n",
        "    rclasses, rscores, rbboxes = np_methods.bboxes_sort(rclasses, rscores, rbboxes, top_k=400)\r\n",
        "    rclasses, rscores, rbboxes = np_methods.bboxes_nms(rclasses, rscores, rbboxes, nms_threshold=nms_threshold)\r\n",
        "    rbboxes = np_methods.bboxes_resize(rbbox_img, rbboxes)\r\n",
        "    return rclasses, rscores, rbboxes"
      ],
      "execution_count": null,
      "outputs": []
    },
    {
      "cell_type": "markdown",
      "metadata": {
        "id": "InSCRKdv08cL"
      },
      "source": [
        "####<font color=red>영상 데이터에 SSD 적용 함수 구성</font>"
      ]
    },
    {
      "cell_type": "code",
      "metadata": {
        "id": "mKtNPMP6y2X6"
      },
      "source": [
        "def video_bboxes(img, classes, scores, bboxes, figsize=(10,10), linewidth=1.5):\r\n",
        "    \"\"\"Visualize bounding boxes. Largely inspired by SSD-MXNET!\r\n",
        "    \"\"\"\r\n",
        "    cnames=['background','aeroplane','bicycle','bird','boat','bottle','bus','car','cat','chair','cow','diningtable','dog','horse','motorbike','person','pottedplant','sheep','sofa','train','tvmonitor']\r\n",
        "    height = img.shape[0]\r\n",
        "    width = img.shape[1]\r\n",
        "    colors = dict()\r\n",
        "    \r\n",
        "    for i in range(classes.shape[0]):\r\n",
        "        cls_id = int(classes[i])\r\n",
        "        if cls_id >= 0:\r\n",
        "            score = scores[i]\r\n",
        "            if cls_id not in colors:\r\n",
        "                colors[cls_id] = (random.random(), random.random(), random.random())\r\n",
        "            ymin = int(bboxes[i, 0] * height)\r\n",
        "            xmin = int(bboxes[i, 1] * width)\r\n",
        "            ymax = int(bboxes[i, 2] * height)\r\n",
        "            xmax = int(bboxes[i, 3] * width)\r\n",
        "            tl=(xmin,ymin)\r\n",
        "            br=(xmax,ymax)\r\n",
        "            img=cv2.rectangle(img,tl,br,colors[cls_id],2)\r\n",
        "            class_name=cnames[cls_id]\r\n",
        "       \r\n",
        "            if cls_id<len(cnames):\r\n",
        "                img=cv2.putText(img,'%s'%cnames[cls_id]+str(score),tl,cv2.FONT_HERSHEY_COMPLEX,1,(255,255,255),2)\r\n",
        "            #cv2_imshow(img)\r\n",
        "    return img"
      ],
      "execution_count": null,
      "outputs": []
    },
    {
      "cell_type": "markdown",
      "metadata": {
        "id": "LYLB0dfo66_l"
      },
      "source": [
        "####<font color=red>업로드된 영상데이터에 SSD 객체 인식 적용</font>\r\n",
        "\r\n",
        "적용된 영상은 video_masked.avi로 저장"
      ]
    },
    {
      "cell_type": "code",
      "metadata": {
        "id": "lulw0CmpyeNm"
      },
      "source": [
        "codec = cv2.VideoWriter_fourcc(*'DIVX')\r\n",
        "output = cv2.VideoWriter('video_masked.avi', codec, 30.0, size)\r\n",
        "\r\n",
        "while (capture.isOpened()):\r\n",
        "    ret, img = capture.read() # ret is true or false (if video is playing then its true)\r\n",
        "    \r\n",
        "    if ret:\r\n",
        "      rclasses, rscores, rbboxes = process_image(img)\r\n",
        "      frame = video_bboxes(img, rclasses, rscores, rbboxes)\r\n",
        "      output.write(frame)\r\n",
        "    else:\r\n",
        "      break\r\n",
        "\r\n",
        "capture.release()\r\n",
        "output.release()\r\n",
        "cv2.destroyAllWindows()"
      ],
      "execution_count": null,
      "outputs": []
    },
    {
      "cell_type": "markdown",
      "metadata": {
        "id": "I91egmTRVadS"
      },
      "source": [
        "####<font color=red>Mask R-CNN 적용된 KITTI_data 다운로드</font>"
      ]
    },
    {
      "cell_type": "code",
      "metadata": {
        "id": "9jlhFbvfO7vo"
      },
      "source": [
        "from google.colab import files\r\n",
        "files.download('video_masked.avi')"
      ],
      "execution_count": null,
      "outputs": []
    }
  ]
}