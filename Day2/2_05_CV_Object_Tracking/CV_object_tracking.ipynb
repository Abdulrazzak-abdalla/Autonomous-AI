{
  "nbformat": 4,
  "nbformat_minor": 0,
  "metadata": {
    "colab": {
      "name": "Copy of CV_object_tracking.ipynb",
      "provenance": [],
      "collapsed_sections": [],
      "toc_visible": true
    },
    "kernelspec": {
      "name": "python3",
      "display_name": "Python 3"
    },
    "accelerator": "GPU"
  },
  "cells": [
    {
      "cell_type": "markdown",
      "metadata": {
        "id": "kY4mExvnM7OA"
      },
      "source": [
        "#<font color=blue>**CV기반 객체 추적 실습**\r\n",
        "\r\n",
        "각 셀을 순서대로 shift + ENTER로 실행"
      ]
    },
    {
      "cell_type": "markdown",
      "metadata": {
        "id": "_CZxR22KW8Gi"
      },
      "source": [
        "##<font color=green>**구글 드라이브 연결**</font>"
      ]
    },
    {
      "cell_type": "code",
      "metadata": {
        "colab": {
          "base_uri": "https://localhost:8080/"
        },
        "id": "-4AUCPfVXjGI",
        "outputId": "b1453d36-16dd-4fba-8f40-2931b7fc0605"
      },
      "source": [
        "from google.colab import drive\r\n",
        "drive.mount('/content/drive')"
      ],
      "execution_count": null,
      "outputs": [
        {
          "output_type": "stream",
          "text": [
            "Drive already mounted at /content/drive; to attempt to forcibly remount, call drive.mount(\"/content/drive\", force_remount=True).\n"
          ],
          "name": "stdout"
        }
      ]
    },
    {
      "cell_type": "markdown",
      "metadata": {
        "id": "Adj8Fs97g-R7"
      },
      "source": [
        "##<font color=green>**object_tracking 폴더 생성 및 이동**</font>"
      ]
    },
    {
      "cell_type": "code",
      "metadata": {
        "colab": {
          "base_uri": "https://localhost:8080/"
        },
        "id": "T6c39OWK4hKg",
        "outputId": "42136f20-4ab8-437f-8804-21bab54098ba"
      },
      "source": [
        "%mkdir drive/MyDrive/CV_object_tracking\r\n",
        "%cd drive/MyDrive/CV_object_tracking"
      ],
      "execution_count": null,
      "outputs": [
        {
          "output_type": "stream",
          "text": [
            "/content/drive/MyDrive/CV_object_tracking\n"
          ],
          "name": "stdout"
        }
      ]
    },
    {
      "cell_type": "markdown",
      "metadata": {
        "id": "6RUX8Opd792l"
      },
      "source": [
        "##<font color=green>**데이터 업로드 진행**"
      ]
    },
    {
      "cell_type": "code",
      "metadata": {
        "colab": {
          "base_uri": "https://localhost:8080/"
        },
        "id": "-XRQCbeBS4mg",
        "outputId": "2a9d8867-c576-4b1b-c818-3416b8262db9"
      },
      "source": [
        "!gdown --id 1KfSuoleDfYbIoFUasiyCWDLGqrfwLaNG --output cv_tracking.zip"
      ],
      "execution_count": null,
      "outputs": [
        {
          "output_type": "stream",
          "text": [
            "Downloading...\n",
            "From: https://drive.google.com/uc?id=1KfSuoleDfYbIoFUasiyCWDLGqrfwLaNG\n",
            "To: /content/drive/MyDrive/CV_object_tracking/cv_tracking.zip\n",
            "26.9MB [00:00, 52.4MB/s]\n"
          ],
          "name": "stdout"
        }
      ]
    },
    {
      "cell_type": "code",
      "metadata": {
        "colab": {
          "base_uri": "https://localhost:8080/"
        },
        "id": "MWiZR9KUYZT9",
        "outputId": "46892017-cc50-47a5-80b5-56d79319a026"
      },
      "source": [
        "!unzip cv_tracking.zip"
      ],
      "execution_count": null,
      "outputs": [
        {
          "output_type": "stream",
          "text": [
            "Archive:  cv_tracking.zip\n",
            "  inflating: book.mp4                \n",
            "  inflating: motorcycle.mp4          \n"
          ],
          "name": "stdout"
        }
      ]
    },
    {
      "cell_type": "markdown",
      "metadata": {
        "id": "u-S9P0oWRGJx"
      },
      "source": [
        "##<font color=green>**CV기반 객체 추적 실습 진행**"
      ]
    },
    {
      "cell_type": "markdown",
      "metadata": {
        "id": "3wYla1DlRpUX"
      },
      "source": [
        "####<font color=red>CV기반 객체 추적 실습 1"
      ]
    },
    {
      "cell_type": "code",
      "metadata": {
        "id": "3VMYF-saQyVl"
      },
      "source": [
        "import cv2\r\n",
        "import numpy as np\r\n",
        "\r\n",
        "cap = cv2.VideoCapture(\"./book.mp4\")\r\n",
        "ret, frame = cap.read()\r\n",
        "\r\n",
        "termination = (cv2.TERM_CRITERIA_EPS | cv2.TERM_CRITERIA_COUNT, 10, 1)\r\n",
        "width = cap.get(cv2.CAP_PROP_FRAME_WIDTH)\r\n",
        "height = cap.get(cv2.CAP_PROP_FRAME_HEIGHT)\r\n",
        "fourcc = cv2.VideoWriter_fourcc(*'DIVX')\r\n",
        "out = cv2.VideoWriter('./book_output.avi', fourcc, 30.0, (int(width), int(height)))\r\n",
        "\r\n",
        "trackWindow = (356, 119, 357, 524)\r\n",
        "RoI = frame[trackWindow[1]:trackWindow[1] + trackWindow[3], trackWindow[0]:trackWindow[0] + trackWindow[2]]\r\n",
        "RoI = cv2.cvtColor(RoI, cv2.COLOR_BGR2HSV)\r\n",
        "RoI_hist = cv2.calcHist([RoI], [0], None, [180], [0, 180])\r\n",
        "\r\n",
        "cv2.normalize(RoI_hist, RoI_hist, 0, 255, cv2.NORM_MINMAX)\r\n",
        "\r\n",
        "while True:\r\n",
        "\r\n",
        "    ret, frame = cap.read()\r\n",
        "    \r\n",
        "    if not ret:\r\n",
        "        break\r\n",
        "\r\n",
        "    if trackWindow is not None:\r\n",
        "\r\n",
        "        hsv = cv2.cvtColor(frame, cv2.COLOR_BGR2HSV)\r\n",
        "        dst = cv2.calcBackProject([hsv], [0, 1], RoI_hist, [0,180, 0, 256], 1)\r\n",
        "        ret, trackWindow = cv2.CamShift(dst, trackWindow, termination)\r\n",
        "\r\n",
        "        x, y, w, h = trackWindow\r\n",
        "        cv2.rectangle(frame, (x,y), (x+w, y+h), (0,0,255),2)\r\n",
        "    out.write(frame)\r\n",
        "\r\n",
        "cap.release()"
      ],
      "execution_count": null,
      "outputs": []
    },
    {
      "cell_type": "code",
      "metadata": {
        "colab": {
          "base_uri": "https://localhost:8080/",
          "height": 17
        },
        "id": "eU1Bg3FMcURr",
        "outputId": "12305321-8eec-4ceb-9dc9-54d3ed24c6c5"
      },
      "source": [
        "from google.colab import files\r\n",
        "files.download('book_output.avi')"
      ],
      "execution_count": null,
      "outputs": [
        {
          "output_type": "display_data",
          "data": {
            "application/javascript": [
              "\n",
              "    async function download(id, filename, size) {\n",
              "      if (!google.colab.kernel.accessAllowed) {\n",
              "        return;\n",
              "      }\n",
              "      const div = document.createElement('div');\n",
              "      const label = document.createElement('label');\n",
              "      label.textContent = `Downloading \"${filename}\": `;\n",
              "      div.appendChild(label);\n",
              "      const progress = document.createElement('progress');\n",
              "      progress.max = size;\n",
              "      div.appendChild(progress);\n",
              "      document.body.appendChild(div);\n",
              "\n",
              "      const buffers = [];\n",
              "      let downloaded = 0;\n",
              "\n",
              "      const channel = await google.colab.kernel.comms.open(id);\n",
              "      // Send a message to notify the kernel that we're ready.\n",
              "      channel.send({})\n",
              "\n",
              "      for await (const message of channel.messages) {\n",
              "        // Send a message to notify the kernel that we're ready.\n",
              "        channel.send({})\n",
              "        if (message.buffers) {\n",
              "          for (const buffer of message.buffers) {\n",
              "            buffers.push(buffer);\n",
              "            downloaded += buffer.byteLength;\n",
              "            progress.value = downloaded;\n",
              "          }\n",
              "        }\n",
              "      }\n",
              "      const blob = new Blob(buffers, {type: 'application/binary'});\n",
              "      const a = document.createElement('a');\n",
              "      a.href = window.URL.createObjectURL(blob);\n",
              "      a.download = filename;\n",
              "      div.appendChild(a);\n",
              "      a.click();\n",
              "      div.remove();\n",
              "    }\n",
              "  "
            ],
            "text/plain": [
              "<IPython.core.display.Javascript object>"
            ]
          },
          "metadata": {
            "tags": []
          }
        },
        {
          "output_type": "display_data",
          "data": {
            "application/javascript": [
              "download(\"download_a8293743-566b-4fde-bb9b-49518c1bb6f9\", \"book_output.avi\", 5248558)"
            ],
            "text/plain": [
              "<IPython.core.display.Javascript object>"
            ]
          },
          "metadata": {
            "tags": []
          }
        }
      ]
    },
    {
      "cell_type": "markdown",
      "metadata": {
        "id": "1jYzPD92XEls"
      },
      "source": [
        "####<font color=red>CV기반 객체 추적 실습 2"
      ]
    },
    {
      "cell_type": "code",
      "metadata": {
        "id": "w8OZoWiFXElt"
      },
      "source": [
        "import cv2\r\n",
        "import numpy as np\r\n",
        "\r\n",
        "cap = cv2.VideoCapture(\"./motorcycle.mp4\")\r\n",
        "ret, frame = cap.read()\r\n",
        "\r\n",
        "termination = (cv2.TERM_CRITERIA_EPS | cv2.TERM_CRITERIA_COUNT, 10, 1)\r\n",
        "width = cap.get(cv2.CAP_PROP_FRAME_WIDTH)\r\n",
        "height = cap.get(cv2.CAP_PROP_FRAME_HEIGHT)\r\n",
        "fourcc = cv2.VideoWriter_fourcc(*'DIVX')\r\n",
        "out = cv2.VideoWriter('./motorcycle_output.avi', fourcc, 30.0, (int(width), int(height)))\r\n",
        "\r\n",
        "trackWindow = (513, 228, 43, 53)\r\n",
        "RoI = frame[trackWindow[1]:trackWindow[1] + trackWindow[3], trackWindow[0]:trackWindow[0] + trackWindow[2]]\r\n",
        "RoI = cv2.cvtColor(RoI, cv2.COLOR_BGR2HSV)\r\n",
        "RoI_hist = cv2.calcHist([RoI], [0], None, [180], [0, 180])\r\n",
        "\r\n",
        "cv2.normalize(RoI_hist, RoI_hist, 0, 255, cv2.NORM_MINMAX)\r\n",
        "\r\n",
        "while True:\r\n",
        "\r\n",
        "    ret, frame = cap.read()\r\n",
        "    \r\n",
        "    if not ret:\r\n",
        "        break\r\n",
        "\r\n",
        "    if trackWindow is not None:\r\n",
        "\r\n",
        "        hsv = cv2.cvtColor(frame, cv2.COLOR_BGR2HSV)\r\n",
        "        dst = cv2.calcBackProject([hsv], [0, 1], RoI_hist, [0,180, 0, 256], 1)\r\n",
        "        ret, trackWindow = cv2.CamShift(dst, trackWindow, termination)\r\n",
        "\r\n",
        "        x, y, w, h = trackWindow\r\n",
        "        cv2.rectangle(frame, (x,y), (x+w, y+h), (0,0,255),2)\r\n",
        "    out.write(frame)\r\n",
        "\r\n",
        "cap.release()"
      ],
      "execution_count": null,
      "outputs": []
    },
    {
      "cell_type": "code",
      "metadata": {
        "colab": {
          "base_uri": "https://localhost:8080/",
          "height": 17
        },
        "id": "fAH3OuUp4ELX",
        "outputId": "094fcc96-9992-4507-e0c5-45f10c94a7f4"
      },
      "source": [
        "from google.colab import files\r\n",
        "files.download('motorcycle_output.avi')"
      ],
      "execution_count": null,
      "outputs": [
        {
          "output_type": "display_data",
          "data": {
            "application/javascript": [
              "\n",
              "    async function download(id, filename, size) {\n",
              "      if (!google.colab.kernel.accessAllowed) {\n",
              "        return;\n",
              "      }\n",
              "      const div = document.createElement('div');\n",
              "      const label = document.createElement('label');\n",
              "      label.textContent = `Downloading \"${filename}\": `;\n",
              "      div.appendChild(label);\n",
              "      const progress = document.createElement('progress');\n",
              "      progress.max = size;\n",
              "      div.appendChild(progress);\n",
              "      document.body.appendChild(div);\n",
              "\n",
              "      const buffers = [];\n",
              "      let downloaded = 0;\n",
              "\n",
              "      const channel = await google.colab.kernel.comms.open(id);\n",
              "      // Send a message to notify the kernel that we're ready.\n",
              "      channel.send({})\n",
              "\n",
              "      for await (const message of channel.messages) {\n",
              "        // Send a message to notify the kernel that we're ready.\n",
              "        channel.send({})\n",
              "        if (message.buffers) {\n",
              "          for (const buffer of message.buffers) {\n",
              "            buffers.push(buffer);\n",
              "            downloaded += buffer.byteLength;\n",
              "            progress.value = downloaded;\n",
              "          }\n",
              "        }\n",
              "      }\n",
              "      const blob = new Blob(buffers, {type: 'application/binary'});\n",
              "      const a = document.createElement('a');\n",
              "      a.href = window.URL.createObjectURL(blob);\n",
              "      a.download = filename;\n",
              "      div.appendChild(a);\n",
              "      a.click();\n",
              "      div.remove();\n",
              "    }\n",
              "  "
            ],
            "text/plain": [
              "<IPython.core.display.Javascript object>"
            ]
          },
          "metadata": {
            "tags": []
          }
        },
        {
          "output_type": "display_data",
          "data": {
            "application/javascript": [
              "download(\"download_f4592b7d-0a01-4e7b-95dd-2b9a76ac5a0b\", \"motorcycle_output.avi\", 39327278)"
            ],
            "text/plain": [
              "<IPython.core.display.Javascript object>"
            ]
          },
          "metadata": {
            "tags": []
          }
        }
      ]
    },
    {
      "cell_type": "code",
      "metadata": {
        "id": "q77pjyPWkUZ9"
      },
      "source": [
        ""
      ],
      "execution_count": null,
      "outputs": []
    }
  ]
}