{
  "nbformat": 4,
  "nbformat_minor": 0,
  "metadata": {
    "colab": {
      "name": "MASK R-CNN(HOT).ipynb",
      "provenance": [],
      "collapsed_sections": [],
      "toc_visible": true
    },
    "kernelspec": {
      "name": "python3",
      "display_name": "Python 3"
    },
    "accelerator": "GPU"
  },
  "cells": [
    {
      "cell_type": "markdown",
      "metadata": {
        "id": "B_AeHbFHyR6l"
      },
      "source": [
        "#<font color=blue>**Mask R-CNN 객체 인식 실습**</font>\r\n",
        "각 셀을 순서대로 shift + ENTER로 실행"
      ]
    },
    {
      "cell_type": "markdown",
      "metadata": {
        "id": "_CZxR22KW8Gi"
      },
      "source": [
        "##<font color=green>**구글 드라이브 연결**</font>"
      ]
    },
    {
      "cell_type": "code",
      "metadata": {
        "id": "-4AUCPfVXjGI"
      },
      "source": [
        "from google.colab import drive\r\n",
        "drive.mount('/content/drive')"
      ],
      "execution_count": null,
      "outputs": []
    },
    {
      "cell_type": "markdown",
      "metadata": {
        "id": "Mw7o_C2aye9W"
      },
      "source": [
        "## <font color=green>**Mask R-CNN을 적용하기위한 적절한 라이브러리 설치 진행**</font>\r\n",
        "####<font color=red>런타임이 초기화시 재설치 진행</font>"
      ]
    },
    {
      "cell_type": "code",
      "metadata": {
        "id": "Vi1cNEwWt6Wt"
      },
      "source": [
        "!pip install tensorboard==1.15.0 tensorflow==1.15.0 tensorflow-estimator==1.15.1 tensorflow-gpu==1.15.2 tensorflow-gpu-estimator==2.1.0 Keras==2.2.5 Keras-Applications==1.0.8 Keras-Preprocessing==1.1.0 utils"
      ],
      "execution_count": null,
      "outputs": []
    },
    {
      "cell_type": "markdown",
      "metadata": {
        "id": "rt3qo64Z0X5q"
      },
      "source": [
        "##<font color=green>**구글 드라이브로 경로 이동**</font>"
      ]
    },
    {
      "cell_type": "code",
      "metadata": {
        "id": "Zsat8Bg4y1fA"
      },
      "source": [
        "cd drive/MyDrive/"
      ],
      "execution_count": null,
      "outputs": []
    },
    {
      "cell_type": "markdown",
      "metadata": {
        "id": "p5aK35Jx0mpu"
      },
      "source": [
        "##<font color=green>**git의 Mask R-CNN 설치**</font>"
      ]
    },
    {
      "cell_type": "code",
      "metadata": {
        "id": "nzrTmtSu0V_r"
      },
      "source": [
        "!git clone https://github.com/matterport/Mask_RCNN"
      ],
      "execution_count": null,
      "outputs": []
    },
    {
      "cell_type": "markdown",
      "metadata": {
        "id": "gOl5KYxD1RmB"
      },
      "source": [
        "##<font color=green>**미리 학습된 COCO Weight 설치**</font>"
      ]
    },
    {
      "cell_type": "code",
      "metadata": {
        "id": "3Qxx3OaO0yic"
      },
      "source": [
        "%cd Mask_RCNN/\r\n",
        "!wget https://github.com/matterport/Mask_RCNN/releases/download/v2.0/mask_rcnn_coco.h5"
      ],
      "execution_count": null,
      "outputs": []
    },
    {
      "cell_type": "code",
      "metadata": {
        "id": "OCogHkMJ1Q0B"
      },
      "source": [
        "cd samples/"
      ],
      "execution_count": null,
      "outputs": []
    },
    {
      "cell_type": "markdown",
      "metadata": {
        "id": "bcrzjQb14oVG"
      },
      "source": [
        "##<font color=green>**Mask R-CNN 실습 코드**</font>"
      ]
    },
    {
      "cell_type": "markdown",
      "metadata": {
        "id": "E8rtkpyw6j1u"
      },
      "source": [
        "####<font color=red>라이브러리 및 경로 설정</font>"
      ]
    },
    {
      "cell_type": "code",
      "metadata": {
        "id": "h9lbRcjv19-p"
      },
      "source": [
        "import os\r\n",
        "import sys\r\n",
        "import random\r\n",
        "import math\r\n",
        "import numpy as np\r\n",
        "import skimage.io\r\n",
        "import matplotlib\r\n",
        "import matplotlib.pyplot as plt\r\n",
        "\r\n",
        "# Root directory of the project\r\n",
        "ROOT_DIR = os.path.abspath(\"../\")\r\n",
        "\r\n",
        "# Import Mask RCNN\r\n",
        "sys.path.append(ROOT_DIR)  # To find local version of the library\r\n",
        "from mrcnn import utils\r\n",
        "import mrcnn.model as modellib\r\n",
        "from mrcnn import visualize\r\n",
        "# Import COCO config\r\n",
        "sys.path.append(os.path.join(ROOT_DIR, \"samples/coco/\"))  # To find local version\r\n",
        "import coco\r\n",
        "\r\n",
        "%matplotlib inline \r\n",
        "\r\n",
        "# Directory to save logs and trained model\r\n",
        "MODEL_DIR = os.path.join(ROOT_DIR, \"logs\")\r\n",
        "\r\n",
        "# Local path to trained weights file\r\n",
        "COCO_MODEL_PATH = os.path.join(ROOT_DIR, \"mask_rcnn_coco.h5\")\r\n",
        "# Download COCO trained weights from Releases if needed\r\n",
        "if not os.path.exists(COCO_MODEL_PATH):\r\n",
        "    utils.download_trained_weights(COCO_MODEL_PATH)\r\n",
        "\r\n",
        "# Directory of images to run detection on\r\n",
        "IMAGE_DIR = os.path.join(ROOT_DIR, \"images\")"
      ],
      "execution_count": null,
      "outputs": []
    },
    {
      "cell_type": "markdown",
      "metadata": {
        "id": "ITyu72hY657v"
      },
      "source": [
        "####<font color=red>GPU 적용 설정 및 기본 설정 구성</font>\r\n",
        "\r\n",
        "\r\n"
      ]
    },
    {
      "cell_type": "code",
      "metadata": {
        "id": "-_QTCoYb40IE"
      },
      "source": [
        "class InferenceConfig(coco.CocoConfig):\r\n",
        "    # Set batch size to 1 since we'll be running inference on\r\n",
        "    # one image at a time. Batch size = GPU_COUNT * IMAGES_PER_GPU\r\n",
        "    GPU_COUNT = 1\r\n",
        "    IMAGES_PER_GPU = 1\r\n",
        "\r\n",
        "config = InferenceConfig()\r\n",
        "config.display()"
      ],
      "execution_count": null,
      "outputs": []
    },
    {
      "cell_type": "markdown",
      "metadata": {
        "id": "7Lymvg2U7Etp"
      },
      "source": [
        "####<font color=red>Mask R-CNN 모델 구축</font>"
      ]
    },
    {
      "cell_type": "code",
      "metadata": {
        "id": "z43M590043Pu"
      },
      "source": [
        "# Create model object in inference mode.\r\n",
        "model = modellib.MaskRCNN(mode=\"inference\", model_dir=MODEL_DIR, config=config)\r\n",
        "\r\n",
        "# Load weights trained on MS-COCO\r\n",
        "model.load_weights(COCO_MODEL_PATH, by_name=True)"
      ],
      "execution_count": null,
      "outputs": []
    },
    {
      "cell_type": "markdown",
      "metadata": {
        "id": "Vy5jeky47Q5S"
      },
      "source": [
        "####<font color=red>Class Name 설정</font>"
      ]
    },
    {
      "cell_type": "code",
      "metadata": {
        "id": "WBBiFO_I46LL"
      },
      "source": [
        "# COCO Class names\r\n",
        "class_names = ['BG', 'person', 'bicycle', 'car', 'motorcycle', 'airplane',\r\n",
        "               'bus', 'train', 'truck', 'boat', 'traffic light',\r\n",
        "               'fire hydrant', 'stop sign', 'parking meter', 'bench', 'bird',\r\n",
        "               'cat', 'dog', 'horse', 'sheep', 'cow', 'elephant', 'bear',\r\n",
        "               'zebra', 'giraffe', 'backpack', 'umbrella', 'handbag', 'tie',\r\n",
        "               'suitcase', 'frisbee', 'skis', 'snowboard', 'sports ball',\r\n",
        "               'kite', 'baseball bat', 'baseball glove', 'skateboard',\r\n",
        "               'surfboard', 'tennis racket', 'bottle', 'wine glass', 'cup',\r\n",
        "               'fork', 'knife', 'spoon', 'bowl', 'banana', 'apple',\r\n",
        "               'sandwich', 'orange', 'broccoli', 'carrot', 'hot dog', 'pizza',\r\n",
        "               'donut', 'cake', 'chair', 'couch', 'potted plant', 'bed',\r\n",
        "               'dining table', 'toilet', 'tv', 'laptop', 'mouse', 'remote',\r\n",
        "               'keyboard', 'cell phone', 'microwave', 'oven', 'toaster',\r\n",
        "               'sink', 'refrigerator', 'book', 'clock', 'vase', 'scissors',\r\n",
        "               'teddy bear', 'hair drier', 'toothbrush']"
      ],
      "execution_count": null,
      "outputs": []
    },
    {
      "cell_type": "markdown",
      "metadata": {
        "id": "fD1D_6DI7Xj6"
      },
      "source": [
        "####<font color=red>폴더 경로 내 이미지에 Mask R-CNN 적용</font>"
      ]
    },
    {
      "cell_type": "code",
      "metadata": {
        "id": "RgDdMinW49SW"
      },
      "source": [
        "# Load a random image from the images folder\r\n",
        "file_names = next(os.walk(IMAGE_DIR))[2]\r\n",
        "image = skimage.io.imread(os.path.join(IMAGE_DIR, random.choice(file_names)))\r\n",
        "\r\n",
        "# Run detection\r\n",
        "results = model.detect([image], verbose=1)\r\n",
        "\r\n",
        "# Visualize results\r\n",
        "r = results[0]\r\n",
        "visualize.display_instances(image, r['rois'], r['masks'], r['class_ids'], \r\n",
        "                            class_names, r['scores'])"
      ],
      "execution_count": null,
      "outputs": []
    },
    {
      "cell_type": "markdown",
      "metadata": {
        "id": "J_EZJSiQ8YGN"
      },
      "source": [
        "####<font color=red>지정한 이미지에 Mask R-CNN 적용</font>\r\n",
        "image = skimage.io.imread('적용하고자하는 이미지 경로')"
      ]
    },
    {
      "cell_type": "code",
      "metadata": {
        "id": "jsSMplwZ5GVA"
      },
      "source": [
        "# Load a random image from the images folder\r\n",
        "image = skimage.io.imread('/content/drive/MyDrive/Mask_RCNN/images/1045023827_4ec3e8ba5c_z.jpg')\r\n",
        "\r\n",
        "# Run detection\r\n",
        "results = model.detect([image], verbose=1)\r\n",
        "\r\n",
        "# Visualize results\r\n",
        "r = results[0]\r\n",
        "visualize.display_instances(image, r['rois'], r['masks'], r['class_ids'], \r\n",
        "                            class_names, r['scores'])"
      ],
      "execution_count": null,
      "outputs": []
    },
    {
      "cell_type": "markdown",
      "metadata": {
        "id": "_JFeJtbgVwM2"
      },
      "source": [
        "##<font color=green>**데이터 업로드 진행**</font>"
      ]
    },
    {
      "cell_type": "markdown",
      "metadata": {
        "id": "qKCEr-KyXY3-"
      },
      "source": [
        "####<font color=red>KITTI_data.mp4 다운로드</font>"
      ]
    },
    {
      "cell_type": "code",
      "metadata": {
        "id": "Lwl1MW78qsnK"
      },
      "source": [
        "!gdown --id 1V68xfo5-YrpHgh0IPuAPWD21rM6U17hW --output KITTI_data.mp4"
      ],
      "execution_count": null,
      "outputs": []
    },
    {
      "cell_type": "markdown",
      "metadata": {
        "id": "hXcMeNA6NfgS"
      },
      "source": [
        "##<font color=green>**Mask R-CNN 영상 실습**</font>\r\n",
        "\r\n",
        "####<font color=red>영상에 Mask R-CNN 적용하기 위한 함수 구성</font>\r\n",
        "def random_colors():\r\n",
        "\r\n",
        "  개별 객체에 적용하기 위한 무작위 색 지정\r\n",
        "\r\n",
        "def apply_mask():\r\n",
        "\r\n",
        "  이미지에 적용하기 위한 mask 적용 설정\r\n",
        "    \r\n",
        "def display_instances():\r\n",
        "\r\n",
        "  이미지에 경계박스, 마스크 적용"
      ]
    },
    {
      "cell_type": "code",
      "metadata": {
        "id": "UIykE_FNBK1R"
      },
      "source": [
        "def random_colors(N):\r\n",
        "    np.random.seed(1)\r\n",
        "    colors = [tuple(255 * np.random.rand(3)) for _ in range(N)]\r\n",
        "    return colors\r\n",
        "\r\n",
        "colors = random_colors(len(class_names))\r\n",
        "class_dict = {\r\n",
        "    name: color for name, color in zip(class_names, colors)\r\n",
        "}\r\n",
        "\r\n",
        "def apply_mask(image, mask, color, alpha=0.5):\r\n",
        "    \"\"\"apply mask to image\"\"\"\r\n",
        "    for n, c in enumerate(color):\r\n",
        "        image[:, :, n] = np.where(\r\n",
        "            mask == 1,\r\n",
        "            image[:, :, n] * (1 - alpha) + alpha * c,\r\n",
        "            image[:, :, n]\r\n",
        "        )\r\n",
        "    return image\r\n",
        "\r\n",
        "\r\n",
        "def display_instances(image, boxes, masks, ids, names, scores):\r\n",
        "    \"\"\"\r\n",
        "        take the image and results and apply the mask, box, and Label\r\n",
        "    \"\"\"\r\n",
        "    n_instances = boxes.shape[0]\r\n",
        "\r\n",
        "    if not n_instances:\r\n",
        "        print('NO INSTANCES TO DISPLAY')\r\n",
        "    else:\r\n",
        "        assert boxes.shape[0] == masks.shape[-1] == ids.shape[0]\r\n",
        "\r\n",
        "    for i in range(n_instances):\r\n",
        "        if not np.any(boxes[i]):\r\n",
        "            continue\r\n",
        "\r\n",
        "        y1, x1, y2, x2 = boxes[i]\r\n",
        "        label = names[ids[i]]\r\n",
        "        color = class_dict[label]\r\n",
        "        score = scores[i] if scores is not None else None\r\n",
        "        caption = '{} {:.2f}'.format(label, score) if score else label\r\n",
        "        mask = masks[:, :, i]\r\n",
        "\r\n",
        "        image = apply_mask(image, mask, color)\r\n",
        "        image = cv2.rectangle(image, (x1, y1), (x2, y2), color, 2)\r\n",
        "        image = cv2.putText(\r\n",
        "            image, caption, (x1, y1), cv2.FONT_HERSHEY_COMPLEX, 0.7, color, 2\r\n",
        "        )\r\n",
        " \r\n",
        "    return image"
      ],
      "execution_count": null,
      "outputs": []
    },
    {
      "cell_type": "markdown",
      "metadata": {
        "id": "UpG16GOHFI-V"
      },
      "source": [
        "####<font color=red>영상 데이터에 Mask R-CNN 객체 인식 적용</font>\r\n",
        "capture = cv2.VideoCapture('적용하고자하는 비디오데이터')\r\n",
        "\r\n",
        "적용된 영상은 video_masked.avi로 저장"
      ]
    },
    {
      "cell_type": "code",
      "metadata": {
        "id": "Za1fcefN80JM"
      },
      "source": [
        "import cv2\r\n",
        "from google.colab.patches import cv2_imshow\r\n",
        "import numpy as np\r\n",
        "capture = cv2.VideoCapture('KITTI_data.mp4') #적용하고자 하는 영상 지정\r\n",
        "size = (\r\n",
        "    int(capture.get(cv2.CAP_PROP_FRAME_WIDTH)),\r\n",
        "    int(capture.get(cv2.CAP_PROP_FRAME_HEIGHT))\r\n",
        ")\r\n",
        "codec = cv2.VideoWriter_fourcc(*'DIVX')\r\n",
        "output = cv2.VideoWriter('video_masked.avi', codec, 60.0, size)\r\n",
        "\r\n",
        "while(capture.isOpened()):\r\n",
        "    ret, frame = capture.read()\r\n",
        "    if ret:\r\n",
        "        # add mask to frame\r\n",
        "        results = model.detect([frame], verbose=0)\r\n",
        "        r = results[0]\r\n",
        "        frame = display_instances(\r\n",
        "            frame, r['rois'], r['masks'], r['class_ids'], class_names, r['scores']\r\n",
        "        )\r\n",
        "        output.write(frame)\r\n",
        "        #cv2_imshow(frame)\r\n",
        "\r\n",
        "        if cv2.waitKey(1) & 0xFF == ord('q'):\r\n",
        "            break\r\n",
        "    else:\r\n",
        "        break\r\n",
        "\r\n",
        "capture.release()\r\n",
        "output.release()\r\n",
        "cv2.destroyAllWindows()"
      ],
      "execution_count": null,
      "outputs": []
    },
    {
      "cell_type": "markdown",
      "metadata": {
        "id": "I91egmTRVadS"
      },
      "source": [
        "####<font color=red>Mask R-CNN 적용된 KITTI_data 다운로드</font>"
      ]
    },
    {
      "cell_type": "code",
      "metadata": {
        "id": "9jlhFbvfO7vo"
      },
      "source": [
        "from google.colab import files\r\n",
        "files.download('video_masked.avi')"
      ],
      "execution_count": null,
      "outputs": []
    }
  ]
}