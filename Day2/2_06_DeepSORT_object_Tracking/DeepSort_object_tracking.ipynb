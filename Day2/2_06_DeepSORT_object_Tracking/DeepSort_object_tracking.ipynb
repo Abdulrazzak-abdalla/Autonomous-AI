{
  "nbformat": 4,
  "nbformat_minor": 0,
  "metadata": {
    "colab": {
      "name": "DeepSort_object_tracking.ipynb",
      "provenance": [],
      "collapsed_sections": []
    },
    "kernelspec": {
      "name": "python3",
      "display_name": "Python 3"
    },
    "accelerator": "GPU"
  },
  "cells": [
    {
      "cell_type": "markdown",
      "metadata": {
        "id": "T_VEJOvauU3o"
      },
      "source": [
        "#<font color=blue>**객체추적 실습**</font>\r\n",
        "각 셀을 순서대로 shift + ENTER로 실행"
      ]
    },
    {
      "cell_type": "markdown",
      "metadata": {
        "id": "_CZxR22KW8Gi"
      },
      "source": [
        "##<font color=green>**구글 드라이브 연결**</font>"
      ]
    },
    {
      "cell_type": "code",
      "metadata": {
        "id": "-4AUCPfVXjGI"
      },
      "source": [
        "from google.colab import drive\r\n",
        "drive.mount('/content/drive')"
      ],
      "execution_count": null,
      "outputs": []
    },
    {
      "cell_type": "markdown",
      "metadata": {
        "id": "Hu_11J2Xu6g4"
      },
      "source": [
        "##<font color=green>**필요한 라이브러리 설치**</fiont>\r\n",
        "####<font color=red>(run time이 초기화될 때마다 재설치 진행)</font>"
      ]
    },
    {
      "cell_type": "code",
      "metadata": {
        "id": "80mQInA_ulLP"
      },
      "source": [
        "!pip install tensorboard==1.15.0 tensorflow==1.15.0 tensorflow-estimator==1.15.1 tensorflow-gpu==1.15.2 tensorflow-gpu-estimator==2.1.0 Keras==2.2.5 Keras-Applications==1.0.8 Keras-Preprocessing==1.1.0 imutils"
      ],
      "execution_count": null,
      "outputs": []
    },
    {
      "cell_type": "markdown",
      "metadata": {
        "id": "Wy1j-604i3YK"
      },
      "source": [
        "##<font color=green>**SESL Autonomous-AI 설치**</font>"
      ]
    },
    {
      "cell_type": "code",
      "metadata": {
        "id": "-WA1QlbQjJhN"
      },
      "source": [
        "%cd drive/MyDrive/\r\n",
        "!git clone https://github.com/SESL-KMU/Autonomous-AI.git"
      ],
      "execution_count": null,
      "outputs": []
    },
    {
      "cell_type": "markdown",
      "metadata": {
        "id": "ta4WK68jugDe"
      },
      "source": [
        "##<font color=green>**DeepSort Tracking 폴더로 경로 이동**</font>"
      ]
    },
    {
      "cell_type": "code",
      "metadata": {
        "id": "xIwVrgKYtyJz"
      },
      "source": [
        "cd Autonomous-AI/Day2/2_06_DeepSORT_object_Tracking"
      ],
      "execution_count": null,
      "outputs": []
    },
    {
      "cell_type": "markdown",
      "metadata": {
        "id": "FTj98sJHItNz"
      },
      "source": [
        "##<font color=green>**yolov4 weight 설치**</font>"
      ]
    },
    {
      "cell_type": "code",
      "metadata": {
        "id": "uXzSG6pSvpZR"
      },
      "source": [
        "!wget https://github.com/AlexeyAB/darknet/releases/download/darknet_yolo_v3_optimal/yolov4.weights"
      ],
      "execution_count": null,
      "outputs": []
    },
    {
      "cell_type": "markdown",
      "metadata": {
        "id": "DlS95y5oxb3_"
      },
      "source": [
        "##<font color=green>**yolov4.weights를 yolov4.h5로 변환**"
      ]
    },
    {
      "cell_type": "code",
      "metadata": {
        "id": "kdm-l88JxNsz"
      },
      "source": [
        "!python convert.py"
      ],
      "execution_count": null,
      "outputs": []
    },
    {
      "cell_type": "markdown",
      "metadata": {
        "id": "pjsKI41gA_iR"
      },
      "source": [
        "##<font color=green>**객체 추적 실습 진행**</font>"
      ]
    },
    {
      "cell_type": "markdown",
      "metadata": {
        "id": "qKCEr-KyXY3-"
      },
      "source": [
        "####<font color=red>KITTI_data.mp4 다운로드</font>"
      ]
    },
    {
      "cell_type": "code",
      "metadata": {
        "id": "Lwl1MW78qsnK"
      },
      "source": [
        "!gdown --id 1V68xfo5-YrpHgh0IPuAPWD21rM6U17hW --output KITTI_data.mp4"
      ],
      "execution_count": null,
      "outputs": []
    },
    {
      "cell_type": "markdown",
      "metadata": {
        "id": "7OKZfSuwCUBk"
      },
      "source": [
        "####<font color=red>!python demo.py <객체 추적을 진행하고자하는 영상></font>\r\n",
        "\r\n",
        "result 폴더 내에 tracking된 영상이 저장됨"
      ]
    },
    {
      "cell_type": "code",
      "metadata": {
        "id": "5QZdN_xxxQ1m"
      },
      "source": [
        "!python demo.py KITTI_data.mp4"
      ],
      "execution_count": null,
      "outputs": []
    },
    {
      "cell_type": "markdown",
      "metadata": {
        "id": "duFMVzNl9Tt5"
      },
      "source": [
        "####<font color=red>저장된 video_masked.avi 데이터 다운로드</font>"
      ]
    },
    {
      "cell_type": "code",
      "metadata": {
        "id": "aU9C-49Gqxo_",
        "colab": {
          "base_uri": "https://localhost:8080/",
          "height": 17
        },
        "outputId": "dd4fd513-acba-42ff-d1c9-1252ce0ce907"
      },
      "source": [
        "from google.colab import files\r\n",
        "files.download('video_masked.avi')"
      ],
      "execution_count": null,
      "outputs": [
        {
          "output_type": "display_data",
          "data": {
            "application/javascript": [
              "\n",
              "    async function download(id, filename, size) {\n",
              "      if (!google.colab.kernel.accessAllowed) {\n",
              "        return;\n",
              "      }\n",
              "      const div = document.createElement('div');\n",
              "      const label = document.createElement('label');\n",
              "      label.textContent = `Downloading \"${filename}\": `;\n",
              "      div.appendChild(label);\n",
              "      const progress = document.createElement('progress');\n",
              "      progress.max = size;\n",
              "      div.appendChild(progress);\n",
              "      document.body.appendChild(div);\n",
              "\n",
              "      const buffers = [];\n",
              "      let downloaded = 0;\n",
              "\n",
              "      const channel = await google.colab.kernel.comms.open(id);\n",
              "      // Send a message to notify the kernel that we're ready.\n",
              "      channel.send({})\n",
              "\n",
              "      for await (const message of channel.messages) {\n",
              "        // Send a message to notify the kernel that we're ready.\n",
              "        channel.send({})\n",
              "        if (message.buffers) {\n",
              "          for (const buffer of message.buffers) {\n",
              "            buffers.push(buffer);\n",
              "            downloaded += buffer.byteLength;\n",
              "            progress.value = downloaded;\n",
              "          }\n",
              "        }\n",
              "      }\n",
              "      const blob = new Blob(buffers, {type: 'application/binary'});\n",
              "      const a = document.createElement('a');\n",
              "      a.href = window.URL.createObjectURL(blob);\n",
              "      a.download = filename;\n",
              "      div.appendChild(a);\n",
              "      a.click();\n",
              "      div.remove();\n",
              "    }\n",
              "  "
            ],
            "text/plain": [
              "<IPython.core.display.Javascript object>"
            ]
          },
          "metadata": {
            "tags": []
          }
        },
        {
          "output_type": "display_data",
          "data": {
            "application/javascript": [
              "download(\"download_bd907b25-d61b-427b-9809-3b1b130a1f64\", \"video_masked.avi\", 19263932)"
            ],
            "text/plain": [
              "<IPython.core.display.Javascript object>"
            ]
          },
          "metadata": {
            "tags": []
          }
        }
      ]
    }
  ]
}