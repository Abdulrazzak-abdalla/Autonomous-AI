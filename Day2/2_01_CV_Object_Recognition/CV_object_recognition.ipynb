{
  "nbformat": 4,
  "nbformat_minor": 0,
  "metadata": {
    "kernelspec": {
      "display_name": "Python 3",
      "language": "python",
      "name": "python3"
    },
    "language_info": {
      "codemirror_mode": {
        "name": "ipython",
        "version": 3
      },
      "file_extension": ".py",
      "mimetype": "text/x-python",
      "name": "python",
      "nbconvert_exporter": "python",
      "pygments_lexer": "ipython3",
      "version": "3.6.4"
    },
    "colab": {
      "name": "CV_object_recognition.ipynb",
      "provenance": [],
      "collapsed_sections": []
    }
  },
  "cells": [
    {
      "cell_type": "markdown",
      "metadata": {
        "id": "tgpiLorBfTdP"
      },
      "source": [
        "#<font color=blue>**CV기반 객체 인식**</font>\r\n",
        "각 셀을 순서대로 shift + ENTER로 실행"
      ]
    },
    {
      "cell_type": "markdown",
      "metadata": {
        "id": "_CZxR22KW8Gi"
      },
      "source": [
        "##<font color=green>**구글 드라이브 연결**</font>"
      ]
    },
    {
      "cell_type": "code",
      "metadata": {
        "id": "-4AUCPfVXjGI"
      },
      "source": [
        "from google.colab import drive\r\n",
        "drive.mount('/content/drive')"
      ],
      "execution_count": null,
      "outputs": []
    },
    {
      "cell_type": "markdown",
      "metadata": {
        "id": "Wy1j-604i3YK"
      },
      "source": [
        "##<font color=green>**SESL Autonomous-AI 설치**</font>"
      ]
    },
    {
      "cell_type": "code",
      "metadata": {
        "id": "-WA1QlbQjJhN"
      },
      "source": [
        "%cd drive/MyDrive/\r\n",
        "!git clone https://github.com/SESL-KMU/Autonomous-AI.git"
      ],
      "execution_count": null,
      "outputs": []
    },
    {
      "cell_type": "markdown",
      "metadata": {
        "id": "VwvSF91TtkWi"
      },
      "source": [
        "##<font color=green>**실습 경로로 이동**</font>"
      ]
    },
    {
      "cell_type": "code",
      "metadata": {
        "id": "2_nW-RRFfI6d"
      },
      "source": [
        "cd Autonomous-AI/Day2/2_01_CV_Object_Recognition"
      ],
      "execution_count": null,
      "outputs": []
    },
    {
      "cell_type": "markdown",
      "metadata": {
        "id": "VDAJ0LFhtqjY"
      },
      "source": [
        "##<font color=green>**실습 코드 진행**</font>"
      ]
    },
    {
      "cell_type": "code",
      "metadata": {
        "scrolled": true,
        "id": "I6bd2g4KfI6g"
      },
      "source": [
        "%run extract_cars.py"
      ],
      "execution_count": null,
      "outputs": []
    }
  ]
}