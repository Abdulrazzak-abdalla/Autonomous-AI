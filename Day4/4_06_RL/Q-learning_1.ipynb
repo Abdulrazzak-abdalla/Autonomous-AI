{
  "cells": [
    {
      "cell_type": "code",
      "metadata": {},
      "source": [
        "import gym\n",
        "import numpy as np\n",
        "import matplotlib.pyplot as plt\n",
        "from gym.envs.registration import register\n",
        "\n",
        "def qmax_action(q):\n",
        "    maxq = np.amax(q)\n",
        "    indices = np.nonzero(q == maxq)[0]\n",
        "    return np.random.choice(indices)\n",
        "\n",
        "register(\n",
        "    id='FrozenLake-v3',\n",
        "    entry_point='gym.envs.toy_text:FrozenLakeEnv',\n",
        "    kwargs={'map_name': '4x4', 'is_slippery': False}\n",
        ")\n",
        "env = gym.make('FrozenLake-v3')\n",
        "\n",
        "#Inistialize Q-table with all zeros, shape = [States num, 4(left,down,right,up)]\n",
        "Q = np.zeros([env.observation_space.n, env.action_space.n])\n",
        "# Set learning parameters\n",
        "num_episodes = 2000\n",
        "\n",
        "# create lists to contain total rewards and steps per episode\n",
        "rList = []\n",
        "for i in range(num_episodes):\n",
        "    # Reset environment and get first new observation\n",
        "    state = env.reset()\n",
        "    rAll = 0\n",
        "    done = False\n",
        "\n",
        "    # The Q-Table learning algorithm\n",
        "    while not done:\n",
        "        action = qmax_action(Q[state, :])\n",
        "\n",
        "        # Get new state and reward from environment\n",
        "        new_state, reward, done, _ = env.step(action)\n",
        "\n",
        "        # Update Q-Table with new knowledge using learning rate\n",
        "        Q[state, action] = reward + np.max(Q[new_state, :])\n",
        "\n",
        "        rAll += reward\n",
        "        state = new_state\n",
        "\n",
        "    rList.append(rAll)\n",
        "\n",
        "print(\"Success rate: \" + str(sum(rList) / num_episodes))\n",
        "print(\"Final Q-Table Values\")\n",
        "print(\"LEFT DOWN RIGHT UP\")\n",
        "print(Q)\n",
        "plt.title(\"Success rate: \" + str(sum(rList) / num_episodes))\n",
        "plt.bar(range(len(rList)), rList, color=\"blue\")\n",
        "plt.show()\n"
      ],
      "outputs": [],
      "execution_count": null
    }
  ],
  "metadata": {
    "anaconda-cloud": {},
    "kernelspec": {
      "display_name": "Python 3",
      "language": "python",
      "name": "python3"
    },
    "language_info": {
      "codemirror_mode": {
        "name": "ipython",
        "version": 3
      },
      "file_extension": ".py",
      "mimetype": "text/x-python",
      "name": "python",
      "nbconvert_exporter": "python",
      "pygments_lexer": "ipython3",
      "version": "3.6.1"
    }
  },
  "nbformat": 4,
  "nbformat_minor": 4
}