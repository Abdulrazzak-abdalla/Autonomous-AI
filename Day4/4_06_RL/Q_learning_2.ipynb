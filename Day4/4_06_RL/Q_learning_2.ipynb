{
  "nbformat": 4,
  "nbformat_minor": 0,
  "metadata": {
    "anaconda-cloud": {},
    "kernelspec": {
      "display_name": "Python 3",
      "language": "python",
      "name": "python3"
    },
    "language_info": {
      "codemirror_mode": {
        "name": "ipython",
        "version": 3
      },
      "file_extension": ".py",
      "mimetype": "text/x-python",
      "name": "python",
      "nbconvert_exporter": "python",
      "pygments_lexer": "ipython3",
      "version": "3.6.1"
    },
    "colab": {
      "name": "Q-learning_2.ipynb",
      "provenance": [],
      "collapsed_sections": []
    }
  },
  "cells": [
    {
      "cell_type": "code",
      "metadata": {
        "colab": {
          "base_uri": "https://localhost:8080/",
          "height": 623
        },
        "id": "Rqeo9grv5gG9",
        "outputId": "0a512f47-a95e-40ae-ddee-f71a4b1b95a9"
      },
      "source": [
        "import gym\n",
        "import numpy as np\n",
        "import matplotlib.pyplot as plt\n",
        "from gym.envs.registration import register\n",
        "\n",
        "def qmax_action(q):\n",
        "    maxq = np.amax(q)\n",
        "    indices = np.nonzero(q == maxq)[0]\n",
        "    return np.random.choice(indices)\n",
        "\n",
        "register(\n",
        "    id='FrozenLake-v3',\n",
        "    entry_point='gym.envs.toy_text:FrozenLakeEnv',\n",
        "    kwargs={'map_name': '4x4', 'is_slippery': False}\n",
        ")\n",
        "env = gym.make('FrozenLake-v3')\n",
        "\n",
        "#Inistialize Q-table with all zeros, shape = [States num, 4(left,down,right,up)]\n",
        "Q = np.zeros([env.observation_space.n, env.action_space.n])\n",
        "# Set learning parameters\n",
        "num_episodes = 2000\n",
        "\n",
        "dis = .99\n",
        "\n",
        "# create lists to contain total rewards and steps per episode\n",
        "rList = []\n",
        "for i in range(num_episodes):\n",
        "    # Reset environment and get first new observation\n",
        "    state = env.reset()\n",
        "    rAll = 0\n",
        "    done = False\n",
        "\n",
        "    e = 1. / ((i // 100) + 1)\n",
        "\n",
        "    # The Q-Table learning algorithm\n",
        "    while not done:\n",
        "        if np.random.rand(1) < e:\n",
        "            action = env.action_space.sample()\n",
        "        else:\n",
        "            action = np.argmax(Q[state, :] + np.random.randn(1, env.action_space.n) / (i+1))\n",
        "\n",
        "        # Get new state and reward from environment\n",
        "        new_state, reward, done, _ = env.step(action)\n",
        "\n",
        "        # Update Q-Table with new knowledge using learning rate\n",
        "        Q[state, action] = reward + dis*np.max(Q[new_state, :])\n",
        "\n",
        "        rAll += reward\n",
        "        state = new_state\n",
        "\n",
        "    rList.append(rAll)\n",
        "\n",
        "print(\"Success rate: \" + str(sum(rList) / num_episodes))\n",
        "print(\"Final Q-Table Values\")\n",
        "print(\"LEFT DOWN RIGHT UP\")\n",
        "print(Q)\n",
        "plt.title(\"Success rate: \" + str(sum(rList) / num_episodes))\n",
        "plt.bar(range(len(rList)), rList, color=\"blue\")\n",
        "plt.show()\n"
      ],
      "execution_count": null,
      "outputs": [
        {
          "output_type": "stream",
          "text": [
            "Success rate: 0.7845\n",
            "Final Q-Table Values\n",
            "LEFT DOWN RIGHT UP\n",
            "[[0.94148015 0.95099005 0.95099005 0.94148015]\n",
            " [0.94148015 0.         0.96059601 0.95099005]\n",
            " [0.95099005 0.970299   0.95099005 0.96059601]\n",
            " [0.96059601 0.         0.95099005 0.95099005]\n",
            " [0.95099005 0.96059601 0.         0.94148015]\n",
            " [0.         0.         0.         0.        ]\n",
            " [0.         0.9801     0.         0.96059601]\n",
            " [0.         0.         0.         0.        ]\n",
            " [0.96059601 0.         0.970299   0.95099005]\n",
            " [0.96059601 0.9801     0.9801     0.        ]\n",
            " [0.970299   0.99       0.         0.970299  ]\n",
            " [0.         0.         0.         0.        ]\n",
            " [0.         0.         0.         0.        ]\n",
            " [0.         0.9801     0.99       0.970299  ]\n",
            " [0.9801     0.99       1.         0.9801    ]\n",
            " [0.         0.         0.         0.        ]]\n"
          ],
          "name": "stdout"
        },
        {
          "output_type": "display_data",
          "data": {
            "image/png": "[encoded data removed]",
            "text/plain": [
              "<Figure size 432x288 with 1 Axes>"
            ]
          },
          "metadata": {
            "tags": [],
            "needs_background": "light"
          }
        }
      ]
    }
  ]
}