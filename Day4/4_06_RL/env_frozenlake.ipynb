{
  "cells": [
    {
      "cell_type": "code",
      "metadata": {},
      "source": [
        "import gym\n",
        "from gym.envs.registration import register\n",
        "\n",
        "register(\n",
        "    id='FrozenLake-v3',\n",
        "    entry_point='gym.envs.toy_text:FrozenLakeEnv',\n",
        "    kwargs={'map_name': '4x4',\n",
        "            'is_slippery': False}\n",
        ")\n",
        "\n",
        "env = gym.make('FrozenLake-v3')\n",
        "state = env.reset()\n",
        "env.render()\n",
        "\n",
        "LEFT = 0\n",
        "DOWN = 1\n",
        "RIGHT = 2\n",
        "UP = 3\n",
        "\n",
        "arrow_keys = {\n",
        "    'w' : UP,\n",
        "    's' : DOWN,\n",
        "    'd' : RIGHT,\n",
        "    'a' : LEFT\n",
        "}\n",
        "\n",
        "while True:\n",
        "    key = input()\n",
        "    action = arrow_keys[key]\n",
        "    state, reward, done, info = env.step(action)\n",
        "    env.render()\n",
        "    print(\"State:\", state, \"Action\", action, \"Reward:\", reward, \"Info:\", info)\n",
        "\n",
        "    if done:  # \ub3c4\ucc29\ud558\uba74 \uac8c\uc784\uc744 \ub05d\ub0b8\ub2e4.\n",
        "        print(\"Finished with reward\", reward)\n",
        "        break\n"
      ],
      "outputs": [],
      "execution_count": null
    }
  ],
  "metadata": {
    "anaconda-cloud": {},
    "kernelspec": {
      "display_name": "Python 3",
      "language": "python",
      "name": "python3"
    },
    "language_info": {
      "codemirror_mode": {
        "name": "ipython",
        "version": 3
      },
      "file_extension": ".py",
      "mimetype": "text/x-python",
      "name": "python",
      "nbconvert_exporter": "python",
      "pygments_lexer": "ipython3",
      "version": "3.6.1"
    }
  },
  "nbformat": 4,
  "nbformat_minor": 4
}